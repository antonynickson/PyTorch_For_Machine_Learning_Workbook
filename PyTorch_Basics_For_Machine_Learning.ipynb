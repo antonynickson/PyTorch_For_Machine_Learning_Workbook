{
  "nbformat": 4,
  "nbformat_minor": 0,
  "metadata": {
    "colab": {
      "name": "PyTorch Basics For Machine Learning.ipynb",
      "provenance": [],
      "toc_visible": true,
      "authorship_tag": "ABX9TyOR+EsgkmcUY7LD/EfE7hzE",
      "include_colab_link": true
    },
    "kernelspec": {
      "name": "python3",
      "display_name": "Python 3"
    },
    "language_info": {
      "name": "python"
    }
  },
  "cells": [
    {
      "cell_type": "markdown",
      "metadata": {
        "id": "view-in-github",
        "colab_type": "text"
      },
      "source": [
        "<a href=\"https://colab.research.google.com/github/antonynickson/PyTorch_For_Machine_Learning_Workbook/blob/main/PyTorch_Basics_For_Machine_Learning.ipynb\" target=\"_parent\"><img src=\"https://colab.research.google.com/assets/colab-badge.svg\" alt=\"Open In Colab\"/></a>"
      ]
    },
    {
      "cell_type": "markdown",
      "source": [
        "\n",
        "\n",
        "```\n",
        "\n",
        "```\n",
        "\n",
        "# **1D Dimensional Excercises**"
      ],
      "metadata": {
        "id": "azbl9GIkKoqF"
      }
    },
    {
      "cell_type": "markdown",
      "source": [
        "\n",
        "**1) Basic Operations**"
      ],
      "metadata": {
        "id": "WT396y5P0fn2"
      }
    },
    {
      "cell_type": "code",
      "execution_count": null,
      "metadata": {
        "id": "7lc3I19cqg3W"
      },
      "outputs": [],
      "source": [
        "import torch"
      ]
    },
    {
      "cell_type": "code",
      "source": [
        "a = torch.tensor([7,1,3,2]) #Create a 1-D array tensor\n",
        "a.dtype  #Find the data type\n",
        "a.type() #Find tensor type"
      ],
      "metadata": {
        "colab": {
          "base_uri": "https://localhost:8080/"
        },
        "id": "zBSD3EDm0alF",
        "outputId": "71ca2ba2-a750-45d7-9c99-759c23df65e2"
      },
      "execution_count": null,
      "outputs": [
        {
          "output_type": "execute_result",
          "data": {
            "text/plain": [
              "torch.int64"
            ]
          },
          "metadata": {},
          "execution_count": 7
        }
      ]
    },
    {
      "cell_type": "code",
      "source": [
        "a = torch.tensor([7,1,2,3], dtype = torch.int) # Create a 1-D tensor and assign a datatype\n",
        "a.type()"
      ],
      "metadata": {
        "colab": {
          "base_uri": "https://localhost:8080/",
          "height": 35
        },
        "id": "20JGbSrkwodh",
        "outputId": "331ee81e-fb8b-46c4-af21-d0f314f7ded1"
      },
      "execution_count": null,
      "outputs": [
        {
          "output_type": "execute_result",
          "data": {
            "text/plain": [
              "'torch.IntTensor'"
            ],
            "application/vnd.google.colaboratory.intrinsic+json": {
              "type": "string"
            }
          },
          "metadata": {},
          "execution_count": 12
        }
      ]
    },
    {
      "cell_type": "code",
      "source": [
        "a = torch.FloatTensor([7.1,2,4,5]) # Create a 1-D float tensor using torch.FloatTensor\n",
        "a"
      ],
      "metadata": {
        "colab": {
          "base_uri": "https://localhost:8080/"
        },
        "id": "TGS72lA-3yxx",
        "outputId": "d2355b25-776d-4209-a1d7-928e6ba581ce"
      },
      "execution_count": null,
      "outputs": [
        {
          "output_type": "execute_result",
          "data": {
            "text/plain": [
              "tensor([7.1000, 2.0000, 4.0000, 5.0000])"
            ]
          },
          "metadata": {},
          "execution_count": 15
        }
      ]
    },
    {
      "cell_type": "code",
      "source": [
        "a = torch.tensor([6,3,4,2])\n",
        "a = a.type(torch.FloatTensor)  # Changing int to float tensor type\n",
        "a.type()"
      ],
      "metadata": {
        "colab": {
          "base_uri": "https://localhost:8080/",
          "height": 35
        },
        "id": "nDDqu0o63nmA",
        "outputId": "74c7bd12-f847-4311-be4e-7bb51cf58f7b"
      },
      "execution_count": null,
      "outputs": [
        {
          "output_type": "execute_result",
          "data": {
            "text/plain": [
              "'torch.FloatTensor'"
            ],
            "application/vnd.google.colaboratory.intrinsic+json": {
              "type": "string"
            }
          },
          "metadata": {},
          "execution_count": 17
        }
      ]
    },
    {
      "cell_type": "code",
      "source": [
        "a = torch.tensor([2,3,4,5])\n",
        "a.size() # FInd the size of the tensor\n",
        "a.ndimension() # Find the dimension of the tensor"
      ],
      "metadata": {
        "colab": {
          "base_uri": "https://localhost:8080/"
        },
        "id": "g6931Co84o0z",
        "outputId": "ca81a7dc-2159-4710-d6cd-aafd5c110ed0"
      },
      "execution_count": null,
      "outputs": [
        {
          "output_type": "execute_result",
          "data": {
            "text/plain": [
              "1"
            ]
          },
          "metadata": {},
          "execution_count": 20
        }
      ]
    },
    {
      "cell_type": "code",
      "source": [
        "a = torch.tensor([6,6,4,3,2,2])\n",
        "a_2d = a.view(-1,1) # convert 1D in to 2D. Also, we use -1 asuming we dont know the number of elements in the tensor. if we know then we can use a.view(6,1)\n",
        "a_2d.ndimension()"
      ],
      "metadata": {
        "colab": {
          "base_uri": "https://localhost:8080/"
        },
        "id": "kemLPlWI45e2",
        "outputId": "aebc0e5b-9725-4a07-aa0d-a888fa864c60"
      },
      "execution_count": null,
      "outputs": [
        {
          "output_type": "execute_result",
          "data": {
            "text/plain": [
              "2"
            ]
          },
          "metadata": {},
          "execution_count": 23
        }
      ]
    },
    {
      "cell_type": "code",
      "source": [
        "import numpy as np\n",
        "n = np.array([1,3,4,56,6,6]) # Create a numpy 1D array\n",
        "a = torch.from_numpy(n) # convert numpy array in to a tensor array\n",
        "a.type()"
      ],
      "metadata": {
        "colab": {
          "base_uri": "https://localhost:8080/",
          "height": 35
        },
        "id": "Ccr6fPCB55wk",
        "outputId": "172b6dc2-df1a-419d-c8f1-76d9d59de99c"
      },
      "execution_count": null,
      "outputs": [
        {
          "output_type": "execute_result",
          "data": {
            "text/plain": [
              "'torch.LongTensor'"
            ],
            "application/vnd.google.colaboratory.intrinsic+json": {
              "type": "string"
            }
          },
          "metadata": {},
          "execution_count": 25
        }
      ]
    },
    {
      "cell_type": "code",
      "source": [
        "a = torch.tensor([4,56]) # Create a tensor 1D array\n",
        "n = a.numpy() # Convert tensor array to numpy array\n",
        "type(n) # check the type of the numpy array in numpy\n"
      ],
      "metadata": {
        "colab": {
          "base_uri": "https://localhost:8080/"
        },
        "id": "DzXpwDOp6xa-",
        "outputId": "f85c13d8-e318-47d1-8fc6-b0bc31cd84bb"
      },
      "execution_count": null,
      "outputs": [
        {
          "output_type": "execute_result",
          "data": {
            "text/plain": [
              "numpy.ndarray"
            ]
          },
          "metadata": {},
          "execution_count": 30
        }
      ]
    },
    {
      "cell_type": "code",
      "source": [
        "import pandas as pd\n",
        "p = pd.Series([9,345,45,4]) # Create a pandas series array\n",
        "a = torch.from_numpy(p.values) # convert pandas series array in to a tensor array\n",
        "a.type()"
      ],
      "metadata": {
        "colab": {
          "base_uri": "https://localhost:8080/",
          "height": 35
        },
        "id": "2-tS-I7d7Qae",
        "outputId": "cc597884-c4a2-44a5-be72-c6a6caaf0a28"
      },
      "execution_count": null,
      "outputs": [
        {
          "output_type": "execute_result",
          "data": {
            "text/plain": [
              "'torch.LongTensor'"
            ],
            "application/vnd.google.colaboratory.intrinsic+json": {
              "type": "string"
            }
          },
          "metadata": {},
          "execution_count": 32
        }
      ]
    },
    {
      "cell_type": "code",
      "source": [
        "a = torch.tensor([3,4,5,3])\n",
        "l = a.tolist() # To convert tensor array in to a list\n",
        "l"
      ],
      "metadata": {
        "colab": {
          "base_uri": "https://localhost:8080/"
        },
        "id": "eGie6qZF-fO2",
        "outputId": "6a72ea13-4e17-4150-a97b-e0c1d0d47719"
      },
      "execution_count": null,
      "outputs": [
        {
          "output_type": "execute_result",
          "data": {
            "text/plain": [
              "[3, 4, 5, 3]"
            ]
          },
          "metadata": {},
          "execution_count": 40
        }
      ]
    },
    {
      "cell_type": "code",
      "source": [
        "import torch\n",
        "\n",
        "a= 2 * torch.ones(100,2)\n",
        "a"
      ],
      "metadata": {
        "colab": {
          "base_uri": "https://localhost:8080/"
        },
        "id": "D1qOwCWBHmf4",
        "outputId": "7048a883-8580-4ef9-a5c7-87a66085d1a6"
      },
      "execution_count": 2,
      "outputs": [
        {
          "output_type": "execute_result",
          "data": {
            "text/plain": [
              "tensor([[2., 2.],\n",
              "        [2., 2.],\n",
              "        [2., 2.],\n",
              "        [2., 2.],\n",
              "        [2., 2.],\n",
              "        [2., 2.],\n",
              "        [2., 2.],\n",
              "        [2., 2.],\n",
              "        [2., 2.],\n",
              "        [2., 2.],\n",
              "        [2., 2.],\n",
              "        [2., 2.],\n",
              "        [2., 2.],\n",
              "        [2., 2.],\n",
              "        [2., 2.],\n",
              "        [2., 2.],\n",
              "        [2., 2.],\n",
              "        [2., 2.],\n",
              "        [2., 2.],\n",
              "        [2., 2.],\n",
              "        [2., 2.],\n",
              "        [2., 2.],\n",
              "        [2., 2.],\n",
              "        [2., 2.],\n",
              "        [2., 2.],\n",
              "        [2., 2.],\n",
              "        [2., 2.],\n",
              "        [2., 2.],\n",
              "        [2., 2.],\n",
              "        [2., 2.],\n",
              "        [2., 2.],\n",
              "        [2., 2.],\n",
              "        [2., 2.],\n",
              "        [2., 2.],\n",
              "        [2., 2.],\n",
              "        [2., 2.],\n",
              "        [2., 2.],\n",
              "        [2., 2.],\n",
              "        [2., 2.],\n",
              "        [2., 2.],\n",
              "        [2., 2.],\n",
              "        [2., 2.],\n",
              "        [2., 2.],\n",
              "        [2., 2.],\n",
              "        [2., 2.],\n",
              "        [2., 2.],\n",
              "        [2., 2.],\n",
              "        [2., 2.],\n",
              "        [2., 2.],\n",
              "        [2., 2.],\n",
              "        [2., 2.],\n",
              "        [2., 2.],\n",
              "        [2., 2.],\n",
              "        [2., 2.],\n",
              "        [2., 2.],\n",
              "        [2., 2.],\n",
              "        [2., 2.],\n",
              "        [2., 2.],\n",
              "        [2., 2.],\n",
              "        [2., 2.],\n",
              "        [2., 2.],\n",
              "        [2., 2.],\n",
              "        [2., 2.],\n",
              "        [2., 2.],\n",
              "        [2., 2.],\n",
              "        [2., 2.],\n",
              "        [2., 2.],\n",
              "        [2., 2.],\n",
              "        [2., 2.],\n",
              "        [2., 2.],\n",
              "        [2., 2.],\n",
              "        [2., 2.],\n",
              "        [2., 2.],\n",
              "        [2., 2.],\n",
              "        [2., 2.],\n",
              "        [2., 2.],\n",
              "        [2., 2.],\n",
              "        [2., 2.],\n",
              "        [2., 2.],\n",
              "        [2., 2.],\n",
              "        [2., 2.],\n",
              "        [2., 2.],\n",
              "        [2., 2.],\n",
              "        [2., 2.],\n",
              "        [2., 2.],\n",
              "        [2., 2.],\n",
              "        [2., 2.],\n",
              "        [2., 2.],\n",
              "        [2., 2.],\n",
              "        [2., 2.],\n",
              "        [2., 2.],\n",
              "        [2., 2.],\n",
              "        [2., 2.],\n",
              "        [2., 2.],\n",
              "        [2., 2.],\n",
              "        [2., 2.],\n",
              "        [2., 2.],\n",
              "        [2., 2.],\n",
              "        [2., 2.],\n",
              "        [2., 2.]])"
            ]
          },
          "metadata": {},
          "execution_count": 2
        }
      ]
    },
    {
      "cell_type": "markdown",
      "source": [
        "**2) Indexing & Slicing**"
      ],
      "metadata": {
        "id": "c7LUoBt58Bqa"
      }
    },
    {
      "cell_type": "code",
      "source": [
        "a = torch.tensor([3,4,5,6,3,2,2,1]) # Create a tensor 1D array\n",
        "a"
      ],
      "metadata": {
        "colab": {
          "base_uri": "https://localhost:8080/"
        },
        "id": "5h4uVB9J8Jq1",
        "outputId": "902172fc-082e-4dcf-cf72-da8834f57c34"
      },
      "execution_count": null,
      "outputs": [
        {
          "output_type": "execute_result",
          "data": {
            "text/plain": [
              "tensor([3, 4, 5, 6, 3, 2, 2, 1])"
            ]
          },
          "metadata": {},
          "execution_count": 33
        }
      ]
    },
    {
      "cell_type": "code",
      "source": [
        "a[0] # Print the index value of tensor array"
      ],
      "metadata": {
        "colab": {
          "base_uri": "https://localhost:8080/"
        },
        "id": "Y_jNp-a88ncz",
        "outputId": "a3f0eca8-e8c7-42ee-e2b1-74463838e06f"
      },
      "execution_count": null,
      "outputs": [
        {
          "output_type": "execute_result",
          "data": {
            "text/plain": [
              "tensor(3)"
            ]
          },
          "metadata": {},
          "execution_count": 34
        }
      ]
    },
    {
      "cell_type": "code",
      "source": [
        "a[1:3] # Print the index value range of tensor array"
      ],
      "metadata": {
        "colab": {
          "base_uri": "https://localhost:8080/"
        },
        "id": "zaDMkdzM8xBH",
        "outputId": "f92e5085-1fde-4546-ff7b-f9a0c10d6df1"
      },
      "execution_count": null,
      "outputs": [
        {
          "output_type": "execute_result",
          "data": {
            "text/plain": [
              "tensor([0.0635, 0.1269])"
            ]
          },
          "metadata": {},
          "execution_count": 68
        }
      ]
    },
    {
      "cell_type": "code",
      "source": [
        "b = a[0:2] # Slicing the tensor array 'a' and creating a new array 'b\n",
        "b"
      ],
      "metadata": {
        "colab": {
          "base_uri": "https://localhost:8080/"
        },
        "id": "h9X6XMnj9cMc",
        "outputId": "e8f99354-6f1d-4953-8bc5-a709fe44a9c0"
      },
      "execution_count": null,
      "outputs": [
        {
          "output_type": "execute_result",
          "data": {
            "text/plain": [
              "tensor([3, 4])"
            ]
          },
          "metadata": {},
          "execution_count": 38
        }
      ]
    },
    {
      "cell_type": "code",
      "source": [
        "a = torch.tensor([3,4,5])\n",
        "a[0] = 0  # we can change the index value of the tensor array\n",
        "a"
      ],
      "metadata": {
        "colab": {
          "base_uri": "https://localhost:8080/"
        },
        "id": "bP1Pp-y6-DD4",
        "outputId": "b0a7c0ab-5b20-4100-eed7-642917ccd2f3"
      },
      "execution_count": null,
      "outputs": [
        {
          "output_type": "execute_result",
          "data": {
            "text/plain": [
              "tensor([0, 4, 5])"
            ]
          },
          "metadata": {},
          "execution_count": 41
        }
      ]
    },
    {
      "cell_type": "code",
      "source": [
        "a[1:3] = torch.tensor([0,0])  # Change the value of indexies of the tensor array. Also, make a note that we have used [1:3] instead of [1:2]\n",
        "a"
      ],
      "metadata": {
        "colab": {
          "base_uri": "https://localhost:8080/"
        },
        "id": "vjmIkv51_I6W",
        "outputId": "9092c587-a91f-435d-9d1e-ff7fa83d00fc"
      },
      "execution_count": null,
      "outputs": [
        {
          "output_type": "execute_result",
          "data": {
            "text/plain": [
              "tensor([0, 0, 0])"
            ]
          },
          "metadata": {},
          "execution_count": 46
        }
      ]
    },
    {
      "cell_type": "markdown",
      "source": [
        "**3) Vector Operations**\n",
        "\n",
        "> Indented block\n",
        "\n",
        "\n",
        "\n",
        "Rule: They should be of same type to peform this operation"
      ],
      "metadata": {
        "id": "kzZTDMCY_uoa"
      }
    },
    {
      "cell_type": "code",
      "source": [
        "u = torch.tensor([1,2]) # create a 1-D array\n",
        "v = torch.tensor([0,1])\n",
        "\n",
        "z = u+v # Vector Addition\n",
        "z"
      ],
      "metadata": {
        "colab": {
          "base_uri": "https://localhost:8080/"
        },
        "id": "2X8dGGv4_nHA",
        "outputId": "d253c315-8525-489f-9e0b-acb46eae0a45"
      },
      "execution_count": null,
      "outputs": [
        {
          "output_type": "execute_result",
          "data": {
            "text/plain": [
              "tensor([1, 3])"
            ]
          },
          "metadata": {},
          "execution_count": 69
        }
      ]
    },
    {
      "cell_type": "code",
      "source": [
        "z = u-v # Vector Subtraction\n",
        "z"
      ],
      "metadata": {
        "colab": {
          "base_uri": "https://localhost:8080/"
        },
        "id": "GIDEFYYdAR-F",
        "outputId": "7375414b-c2d3-4369-8766-4ca4c7fbf05d"
      },
      "execution_count": null,
      "outputs": [
        {
          "output_type": "execute_result",
          "data": {
            "text/plain": [
              "tensor([-1, -1])"
            ]
          },
          "metadata": {},
          "execution_count": 49
        }
      ]
    },
    {
      "cell_type": "code",
      "source": [
        "z = u * 2 # Vector scalar multiplication\n",
        "z"
      ],
      "metadata": {
        "colab": {
          "base_uri": "https://localhost:8080/"
        },
        "id": "90JXkVrnAXno",
        "outputId": "06fe16e5-0cbc-4eda-a8f4-78e3a301da75"
      },
      "execution_count": null,
      "outputs": [
        {
          "output_type": "execute_result",
          "data": {
            "text/plain": [
              "tensor([6, 8])"
            ]
          },
          "metadata": {},
          "execution_count": 50
        }
      ]
    },
    {
      "cell_type": "code",
      "source": [
        "z = u * v # Product of two tensors\n",
        "z"
      ],
      "metadata": {
        "colab": {
          "base_uri": "https://localhost:8080/"
        },
        "id": "I5L0_4KmBON4",
        "outputId": "e9897f3e-ebc1-478b-d2ba-e0ee4e67a8e3"
      },
      "execution_count": null,
      "outputs": [
        {
          "output_type": "execute_result",
          "data": {
            "text/plain": [
              "tensor([12, 20])"
            ]
          },
          "metadata": {},
          "execution_count": 51
        }
      ]
    },
    {
      "cell_type": "code",
      "source": [
        "z = torch.dot(u,v) # Dot Product ie) Transpose(u) * v\n",
        "z"
      ],
      "metadata": {
        "colab": {
          "base_uri": "https://localhost:8080/"
        },
        "id": "ctHbpcrYBsGa",
        "outputId": "9f3c8bdd-4193-4469-af74-017871d4bdf7"
      },
      "execution_count": null,
      "outputs": [
        {
          "output_type": "execute_result",
          "data": {
            "text/plain": [
              "tensor(2)"
            ]
          },
          "metadata": {},
          "execution_count": 70
        }
      ]
    },
    {
      "cell_type": "code",
      "source": [
        "z = u + 1 # Broadcasting -> Adding a constant value to a tensor\n",
        "z"
      ],
      "metadata": {
        "colab": {
          "base_uri": "https://localhost:8080/"
        },
        "id": "9q_P9dVQD4Nj",
        "outputId": "1ab129a2-6337-41ce-a7bd-96b0818ddf21"
      },
      "execution_count": null,
      "outputs": [
        {
          "output_type": "execute_result",
          "data": {
            "text/plain": [
              "tensor([4, 5])"
            ]
          },
          "metadata": {},
          "execution_count": 53
        }
      ]
    },
    {
      "cell_type": "markdown",
      "source": [
        "**4. Universal Functions**"
      ],
      "metadata": {
        "id": "fw-5OcZ9EF81"
      }
    },
    {
      "cell_type": "code",
      "source": [
        "a = torch.FloatTensor([1,-1,1,1])\n",
        "a.mean() # To check mean we need to create a FloatTensor"
      ],
      "metadata": {
        "colab": {
          "base_uri": "https://localhost:8080/"
        },
        "id": "pxg9-MgMEAbq",
        "outputId": "265ff0dc-65a9-4b47-af14-7fdf0e638054"
      },
      "execution_count": null,
      "outputs": [
        {
          "output_type": "execute_result",
          "data": {
            "text/plain": [
              "tensor(0.5000)"
            ]
          },
          "metadata": {},
          "execution_count": 58
        }
      ]
    },
    {
      "cell_type": "code",
      "source": [
        "a.max() # Find maximum"
      ],
      "metadata": {
        "colab": {
          "base_uri": "https://localhost:8080/"
        },
        "id": "F-uAI7MeEsyO",
        "outputId": "e5970217-68bc-4117-8372-e7ba9d64324e"
      },
      "execution_count": null,
      "outputs": [
        {
          "output_type": "execute_result",
          "data": {
            "text/plain": [
              "tensor(1.)"
            ]
          },
          "metadata": {},
          "execution_count": 59
        }
      ]
    },
    {
      "cell_type": "code",
      "source": [
        "a = torch.tensor([0,np.pi/2,np.pi])\n",
        "b = torch.sin(a)\n",
        "b"
      ],
      "metadata": {
        "colab": {
          "base_uri": "https://localhost:8080/"
        },
        "id": "CdmBd5p2E3AX",
        "outputId": "fa794df7-eb22-4fde-9562-411b519f6e42"
      },
      "execution_count": null,
      "outputs": [
        {
          "output_type": "execute_result",
          "data": {
            "text/plain": [
              "tensor([ 0.0000e+00,  1.0000e+00, -8.7423e-08])"
            ]
          },
          "metadata": {},
          "execution_count": 61
        }
      ]
    },
    {
      "cell_type": "code",
      "source": [
        "a = torch.linspace(-2,2,steps=9) # this creates 9 values from -2 to 2\n",
        "a"
      ],
      "metadata": {
        "colab": {
          "base_uri": "https://localhost:8080/"
        },
        "id": "LrxgT724HhJU",
        "outputId": "eb839682-1dab-4f02-d62d-e9b1faf4aec5"
      },
      "execution_count": null,
      "outputs": [
        {
          "output_type": "execute_result",
          "data": {
            "text/plain": [
              "tensor([-2.0000, -1.5000, -1.0000, -0.5000,  0.0000,  0.5000,  1.0000,  1.5000,\n",
              "         2.0000])"
            ]
          },
          "metadata": {},
          "execution_count": 63
        }
      ]
    },
    {
      "cell_type": "code",
      "source": [
        "a = torch.linspace(0,2*np.pi,100)\n",
        "a"
      ],
      "metadata": {
        "colab": {
          "base_uri": "https://localhost:8080/"
        },
        "id": "oAnixsIzH4Gg",
        "outputId": "d6d0ba4b-46e8-402f-f2c3-3d9266ce21a1"
      },
      "execution_count": null,
      "outputs": [
        {
          "output_type": "execute_result",
          "data": {
            "text/plain": [
              "tensor([0.0000, 0.0635, 0.1269, 0.1904, 0.2539, 0.3173, 0.3808, 0.4443, 0.5077,\n",
              "        0.5712, 0.6347, 0.6981, 0.7616, 0.8251, 0.8885, 0.9520, 1.0155, 1.0789,\n",
              "        1.1424, 1.2059, 1.2693, 1.3328, 1.3963, 1.4597, 1.5232, 1.5867, 1.6501,\n",
              "        1.7136, 1.7771, 1.8405, 1.9040, 1.9675, 2.0309, 2.0944, 2.1579, 2.2213,\n",
              "        2.2848, 2.3483, 2.4117, 2.4752, 2.5387, 2.6021, 2.6656, 2.7291, 2.7925,\n",
              "        2.8560, 2.9195, 2.9829, 3.0464, 3.1099, 3.1733, 3.2368, 3.3003, 3.3637,\n",
              "        3.4272, 3.4907, 3.5541, 3.6176, 3.6811, 3.7445, 3.8080, 3.8715, 3.9349,\n",
              "        3.9984, 4.0619, 4.1253, 4.1888, 4.2523, 4.3157, 4.3792, 4.4427, 4.5061,\n",
              "        4.5696, 4.6331, 4.6965, 4.7600, 4.8235, 4.8869, 4.9504, 5.0139, 5.0773,\n",
              "        5.1408, 5.2043, 5.2677, 5.3312, 5.3947, 5.4581, 5.5216, 5.5851, 5.6485,\n",
              "        5.7120, 5.7755, 5.8389, 5.9024, 5.9659, 6.0293, 6.0928, 6.1563, 6.2197,\n",
              "        6.2832])"
            ]
          },
          "metadata": {},
          "execution_count": 64
        }
      ]
    },
    {
      "cell_type": "code",
      "source": [
        "b=torch.sin(a)\n",
        "b"
      ],
      "metadata": {
        "colab": {
          "base_uri": "https://localhost:8080/"
        },
        "id": "0QNNNJ5KILSq",
        "outputId": "fba8e826-9cb5-4843-c92e-56419babf619"
      },
      "execution_count": null,
      "outputs": [
        {
          "output_type": "execute_result",
          "data": {
            "text/plain": [
              "tensor([ 0.0000e+00,  6.3424e-02,  1.2659e-01,  1.8925e-01,  2.5115e-01,\n",
              "         3.1203e-01,  3.7166e-01,  4.2979e-01,  4.8620e-01,  5.4064e-01,\n",
              "         5.9291e-01,  6.4279e-01,  6.9008e-01,  7.3459e-01,  7.7615e-01,\n",
              "         8.1458e-01,  8.4973e-01,  8.8145e-01,  9.0963e-01,  9.3415e-01,\n",
              "         9.5490e-01,  9.7181e-01,  9.8481e-01,  9.9384e-01,  9.9887e-01,\n",
              "         9.9987e-01,  9.9685e-01,  9.8982e-01,  9.7880e-01,  9.6384e-01,\n",
              "         9.4500e-01,  9.2235e-01,  8.9599e-01,  8.6603e-01,  8.3257e-01,\n",
              "         7.9576e-01,  7.5575e-01,  7.1269e-01,  6.6677e-01,  6.1816e-01,\n",
              "         5.6706e-01,  5.1368e-01,  4.5823e-01,  4.0093e-01,  3.4202e-01,\n",
              "         2.8173e-01,  2.2031e-01,  1.5800e-01,  9.5056e-02,  3.1728e-02,\n",
              "        -3.1728e-02, -9.5056e-02, -1.5800e-01, -2.2031e-01, -2.8173e-01,\n",
              "        -3.4202e-01, -4.0093e-01, -4.5823e-01, -5.1368e-01, -5.6706e-01,\n",
              "        -6.1816e-01, -6.6677e-01, -7.1269e-01, -7.5575e-01, -7.9576e-01,\n",
              "        -8.3257e-01, -8.6603e-01, -8.9599e-01, -9.2235e-01, -9.4500e-01,\n",
              "        -9.6384e-01, -9.7880e-01, -9.8982e-01, -9.9685e-01, -9.9987e-01,\n",
              "        -9.9887e-01, -9.9384e-01, -9.8481e-01, -9.7181e-01, -9.5490e-01,\n",
              "        -9.3415e-01, -9.0963e-01, -8.8145e-01, -8.4973e-01, -8.1458e-01,\n",
              "        -7.7615e-01, -7.3459e-01, -6.9008e-01, -6.4279e-01, -5.9291e-01,\n",
              "        -5.4064e-01, -4.8620e-01, -4.2979e-01, -3.7166e-01, -3.1203e-01,\n",
              "        -2.5115e-01, -1.8925e-01, -1.2659e-01, -6.3424e-02,  1.7485e-07])"
            ]
          },
          "metadata": {},
          "execution_count": 66
        }
      ]
    },
    {
      "cell_type": "code",
      "source": [
        "import matplotlib.pyplot as plt\n",
        "%matplotlib inline\n",
        "\n",
        "plt.plot(a.numpy(),b.numpy()) # Plot the a and b using matplotlib; we need to convert the tensor array to numpy while plotting it"
      ],
      "metadata": {
        "colab": {
          "base_uri": "https://localhost:8080/",
          "height": 282
        },
        "id": "V41tTNZVHy3d",
        "outputId": "0f28b2f6-561e-47ae-bd49-0b377b1655d4"
      },
      "execution_count": null,
      "outputs": [
        {
          "output_type": "execute_result",
          "data": {
            "text/plain": [
              "[<matplotlib.lines.Line2D at 0x7effd637cc90>]"
            ]
          },
          "metadata": {},
          "execution_count": 67
        },
        {
          "output_type": "display_data",
          "data": {
            "text/plain": [
              "<Figure size 432x288 with 1 Axes>"
            ],
            "image/png": "[encoded data removed]"
          },
          "metadata": {
            "needs_background": "light"
          }
        }
      ]
    },
    {
      "cell_type": "markdown",
      "source": [
        "#2D Dimensional Excercises"
      ],
      "metadata": {
        "id": "xht-ehxeK82U"
      }
    },
    {
      "cell_type": "markdown",
      "source": [
        "**1) Basic Operations**"
      ],
      "metadata": {
        "id": "diZs7JxiXMsb"
      }
    },
    {
      "cell_type": "code",
      "source": [
        "import torch\n",
        "a = torch.tensor([[1,2,3],[3,3,4]])\n",
        "a.size() # Check the size\n",
        "a.ndimension() #check the dimemsion\n",
        "a.numel() # check the number of elements in the tensor\n",
        "a.shape # Find the shape"
      ],
      "metadata": {
        "id": "vyR1yBNlI10O",
        "colab": {
          "base_uri": "https://localhost:8080/"
        },
        "outputId": "81da3b11-63b6-46a9-ac78-9ba263cf3a6d"
      },
      "execution_count": null,
      "outputs": [
        {
          "output_type": "execute_result",
          "data": {
            "text/plain": [
              "torch.Size([2, 3])"
            ]
          },
          "metadata": {},
          "execution_count": 10
        }
      ]
    },
    {
      "cell_type": "code",
      "source": [
        "a=torch.tensor([[0,1,1],[1,0,1]])\n",
        "a.size()"
      ],
      "metadata": {
        "colab": {
          "base_uri": "https://localhost:8080/"
        },
        "id": "y-fsgXAYcmms",
        "outputId": "c9e1f35c-8be2-4c8a-dc71-cd6f93b049fc"
      },
      "execution_count": null,
      "outputs": [
        {
          "output_type": "execute_result",
          "data": {
            "text/plain": [
              "torch.Size([2, 3])"
            ]
          },
          "metadata": {},
          "execution_count": 46
        }
      ]
    },
    {
      "cell_type": "code",
      "source": [
        "l = [[1,2,3],[3,5,5]]\n",
        "a = torch.tensor(l)  #convert list in to an tensor array\n",
        "a"
      ],
      "metadata": {
        "colab": {
          "base_uri": "https://localhost:8080/"
        },
        "id": "PpDi1uOVU3iG",
        "outputId": "adb3627f-f2d3-4190-ffdc-dad61803ff1c"
      },
      "execution_count": null,
      "outputs": [
        {
          "output_type": "execute_result",
          "data": {
            "text/plain": [
              "tensor([[1, 2, 3],\n",
              "        [3, 5, 5]])"
            ]
          },
          "metadata": {},
          "execution_count": 13
        }
      ]
    },
    {
      "cell_type": "code",
      "source": [
        "import numpy as np\n",
        "\n",
        "n = a.numpy()  # convert tensor in to numpy\n",
        "n"
      ],
      "metadata": {
        "colab": {
          "base_uri": "https://localhost:8080/"
        },
        "id": "Pj7hd7pJVJIP",
        "outputId": "22ac2c84-d9ca-4cc5-a40e-5d39c2b3d5f8"
      },
      "execution_count": null,
      "outputs": [
        {
          "output_type": "execute_result",
          "data": {
            "text/plain": [
              "array([[1, 2, 3],\n",
              "       [3, 5, 5]])"
            ]
          },
          "metadata": {},
          "execution_count": 19
        }
      ]
    },
    {
      "cell_type": "code",
      "source": [
        "a = torch.from_numpy(n) #Convert numpy in to tensor\n",
        "a"
      ],
      "metadata": {
        "colab": {
          "base_uri": "https://localhost:8080/"
        },
        "id": "TjJSPkTuVkgz",
        "outputId": "659d0f38-3ccb-4bf1-ab67-7cefacdac71c"
      },
      "execution_count": null,
      "outputs": [
        {
          "output_type": "execute_result",
          "data": {
            "text/plain": [
              "tensor([[1, 2, 3],\n",
              "        [3, 5, 5]])"
            ]
          },
          "metadata": {},
          "execution_count": 22
        }
      ]
    },
    {
      "cell_type": "code",
      "source": [
        "import pandas as pd\n",
        "\n",
        "df = pd.DataFrame({'a':[2,3,4], 'b': [4,5,6]}) #Convert Pandas dataframe in to Tensor\n",
        "\n",
        "a= torch.from_numpy(df.values)\n",
        "a"
      ],
      "metadata": {
        "colab": {
          "base_uri": "https://localhost:8080/"
        },
        "id": "01Mqqh60VxZ3",
        "outputId": "12f25088-8a1e-4518-cc65-ca1d6aea23a5"
      },
      "execution_count": null,
      "outputs": [
        {
          "output_type": "execute_result",
          "data": {
            "text/plain": [
              "tensor([[2, 4],\n",
              "        [3, 5],\n",
              "        [4, 6]])"
            ]
          },
          "metadata": {},
          "execution_count": 27
        }
      ]
    },
    {
      "cell_type": "markdown",
      "source": [
        "**2) Indexing & Slicing**"
      ],
      "metadata": {
        "id": "j5GTc8uUXRlg"
      }
    },
    {
      "cell_type": "code",
      "source": [
        "a = torch.tensor([[2,3,4],[4,5,6]])\n",
        "a[0][0]  # Indexing first element of the array"
      ],
      "metadata": {
        "colab": {
          "base_uri": "https://localhost:8080/"
        },
        "id": "NxLLAW6pWgaB",
        "outputId": "381dd892-4728-43d5-b24b-4a9b241f7f76"
      },
      "execution_count": null,
      "outputs": [
        {
          "output_type": "execute_result",
          "data": {
            "text/plain": [
              "tensor(2)"
            ]
          },
          "metadata": {},
          "execution_count": 30
        }
      ]
    },
    {
      "cell_type": "code",
      "source": [
        "a[0,1:3] #Slicing"
      ],
      "metadata": {
        "colab": {
          "base_uri": "https://localhost:8080/"
        },
        "id": "4o9TyjSAXiIB",
        "outputId": "2f37bc3e-69db-4706-920c-9f1c6f846f43"
      },
      "execution_count": null,
      "outputs": [
        {
          "output_type": "execute_result",
          "data": {
            "text/plain": [
              "tensor([3, 4])"
            ]
          },
          "metadata": {},
          "execution_count": 31
        }
      ]
    },
    {
      "cell_type": "code",
      "source": [
        "a[1][0:2] #Slicing"
      ],
      "metadata": {
        "colab": {
          "base_uri": "https://localhost:8080/"
        },
        "id": "wKNVVjGNXmas",
        "outputId": "a6c74411-fff4-4d0e-e18d-e920edfee9e8"
      },
      "execution_count": null,
      "outputs": [
        {
          "output_type": "execute_result",
          "data": {
            "text/plain": [
              "tensor([4, 5])"
            ]
          },
          "metadata": {},
          "execution_count": 32
        }
      ]
    },
    {
      "cell_type": "code",
      "source": [
        "tensor_example = torch.tensor([[11, 12, 13], [21, 22, 23], [31, 32, 33]])\n",
        "sliced_tensor_example = tensor_example[1:3]\n",
        "print(\"1. Slicing step on tensor_example: \")\n",
        "print(\"Result after tensor_example[1:3]: \", sliced_tensor_example)\n",
        "print(\"Dimension after tensor_example[1:3]: \", sliced_tensor_example.ndimension())\n",
        "print(\"================================================\")\n",
        "print(\"2. Pick an index on sliced_tensor_example: \")\n",
        "print(\"Result after sliced_tensor_example[1]: \", sliced_tensor_example[1])\n",
        "print(\"Dimension after sliced_tensor_example[1]: \", sliced_tensor_example[1].ndimension())\n",
        "print(\"================================================\")\n",
        "print(\"3. Combine these step together:\")\n",
        "print(\"Result: \", tensor_example[1:3][1])\n",
        "print(\"Dimension: \", tensor_example[1:3][1].ndimension())"
      ],
      "metadata": {
        "colab": {
          "base_uri": "https://localhost:8080/"
        },
        "id": "3VT_LobJXxWC",
        "outputId": "0480ea41-b4a2-46b3-f5ce-b99c8e1e467b"
      },
      "execution_count": null,
      "outputs": [
        {
          "output_type": "stream",
          "name": "stdout",
          "text": [
            "1. Slicing step on tensor_example: \n",
            "Result after tensor_example[1:3]:  tensor([[21, 22, 23],\n",
            "        [31, 32, 33]])\n",
            "Dimension after tensor_example[1:3]:  2\n",
            "================================================\n",
            "2. Pick an index on sliced_tensor_example: \n",
            "Result after sliced_tensor_example[1]:  tensor([31, 32, 33])\n",
            "Dimension after sliced_tensor_example[1]:  1\n",
            "================================================\n",
            "3. Combine these step together:\n",
            "Result:  tensor([31, 32, 33])\n",
            "Dimension:  1\n"
          ]
        }
      ]
    },
    {
      "cell_type": "markdown",
      "source": [
        "**3) Vector Calculations**"
      ],
      "metadata": {
        "id": "FPm2iJBiaAgy"
      }
    },
    {
      "cell_type": "code",
      "source": [
        "x = torch.tensor([[2,3,4],[5,6,7]])\n",
        "y = torch.tensor([[1,2,3],[7,8,9]])"
      ],
      "metadata": {
        "id": "ubGf9XdHZ_pu"
      },
      "execution_count": null,
      "outputs": []
    },
    {
      "cell_type": "code",
      "source": [
        "z = x + y\n",
        "z"
      ],
      "metadata": {
        "colab": {
          "base_uri": "https://localhost:8080/"
        },
        "id": "UTHHLGV3bNSr",
        "outputId": "c9e783fd-e0d9-4cdb-86a1-7b54639f8440"
      },
      "execution_count": null,
      "outputs": [
        {
          "output_type": "execute_result",
          "data": {
            "text/plain": [
              "tensor([[ 3,  5,  7],\n",
              "        [12, 14, 16]])"
            ]
          },
          "metadata": {},
          "execution_count": 36
        }
      ]
    },
    {
      "cell_type": "code",
      "source": [
        "z = 2*x + y\n",
        "z"
      ],
      "metadata": {
        "colab": {
          "base_uri": "https://localhost:8080/"
        },
        "id": "0tuHV7jMbPVz",
        "outputId": "fc772893-3e54-40a8-97a9-972e5590cdeb"
      },
      "execution_count": null,
      "outputs": [
        {
          "output_type": "execute_result",
          "data": {
            "text/plain": [
              "tensor([[ 5,  8, 11],\n",
              "        [17, 20, 23]])"
            ]
          },
          "metadata": {},
          "execution_count": 39
        }
      ]
    },
    {
      "cell_type": "code",
      "source": [
        "z = x * y\n",
        "z"
      ],
      "metadata": {
        "colab": {
          "base_uri": "https://localhost:8080/"
        },
        "id": "QFfXOrrxcLDf",
        "outputId": "58a9d498-24e3-4408-e229-0d99ac3c5844"
      },
      "execution_count": null,
      "outputs": [
        {
          "output_type": "execute_result",
          "data": {
            "text/plain": [
              "tensor([[ 2,  6, 12],\n",
              "        [35, 48, 63]])"
            ]
          },
          "metadata": {},
          "execution_count": 45
        }
      ]
    },
    {
      "cell_type": "code",
      "source": [
        "# For matrix multiplication, the number of columns of the 1st matrix and number of rows of the 2nd shuld be of same number\n",
        "x = torch.tensor([[2,3,4],[4,5,6]])\n",
        "y = torch.tensor([[1,2],[3,4],[5,6]])\n",
        "\n",
        "z = torch.mm(x,y)\n",
        "z"
      ],
      "metadata": {
        "colab": {
          "base_uri": "https://localhost:8080/"
        },
        "id": "smmZECfvbWFC",
        "outputId": "dfed80cb-76ec-4bc0-d34d-703591776b6a"
      },
      "execution_count": null,
      "outputs": [
        {
          "output_type": "execute_result",
          "data": {
            "text/plain": [
              "tensor([[31, 40],\n",
              "        [49, 64]])"
            ]
          },
          "metadata": {},
          "execution_count": 41
        }
      ]
    },
    {
      "cell_type": "code",
      "source": [
        "A = torch.tensor([[0, 1, 1], [1, 0, 1]])\n",
        "B = torch.tensor([[1, 1], [1, 1], [-1, 1]])\n",
        "A_times_B = torch.mm(A,B)\n",
        "A_times_B"
      ],
      "metadata": {
        "colab": {
          "base_uri": "https://localhost:8080/"
        },
        "id": "WiZ_mNcZdFIN",
        "outputId": "741c9cf1-94d8-46eb-91ba-8e663a8ece31"
      },
      "execution_count": null,
      "outputs": [
        {
          "output_type": "execute_result",
          "data": {
            "text/plain": [
              "tensor([[0, 2],\n",
              "        [0, 2]])"
            ]
          },
          "metadata": {},
          "execution_count": 49
        }
      ]
    },
    {
      "cell_type": "code",
      "source": [
        "X = torch.tensor([[1, 0], [0, 1]])\n",
        "Y = torch.tensor([[2, 1], [1, 2]]) \n",
        "X_times_Y = X * Y\n",
        "X_times_Y"
      ],
      "metadata": {
        "colab": {
          "base_uri": "https://localhost:8080/"
        },
        "id": "LsMWGZIAZXib",
        "outputId": "2a46dda5-1c6d-4f91-c01a-aabbe0667824"
      },
      "execution_count": null,
      "outputs": [
        {
          "output_type": "execute_result",
          "data": {
            "text/plain": [
              "tensor([[2, 0],\n",
              "        [0, 2]])"
            ]
          },
          "metadata": {},
          "execution_count": 48
        }
      ]
    },
    {
      "cell_type": "markdown",
      "source": [
        "# Derivates (Simple & Partial)"
      ],
      "metadata": {
        "id": "MfWwzv1XLO9Q"
      }
    },
    {
      "cell_type": "markdown",
      "source": [
        "**1) Simple Derivatives**"
      ],
      "metadata": {
        "id": "M6pmTZa6MkaC"
      }
    },
    {
      "cell_type": "code",
      "source": [
        "import torch\n",
        "import matplotlib.pylab as plt"
      ],
      "metadata": {
        "id": "amaEmN8TLX4i"
      },
      "execution_count": 1,
      "outputs": []
    },
    {
      "cell_type": "code",
      "source": [
        "x = torch.tensor(2.0,requires_grad = True) #Create tensor x\n",
        "\n",
        "y = x ** 2  # Create tensor y\n",
        "\n",
        "# Take the derivative. Try to print out the derivative at the value x = 2\n",
        "y.backward() \n",
        "print(\"The Derivative of x: \", x.grad)"
      ],
      "metadata": {
        "colab": {
          "base_uri": "https://localhost:8080/"
        },
        "id": "l0RUyfhNLtFK",
        "outputId": "3f269e82-3bf0-410e-ee35-101dd90c40c5"
      },
      "execution_count": 5,
      "outputs": [
        {
          "output_type": "stream",
          "name": "stdout",
          "text": [
            "The Derivative of x:  tensor(4.)\n"
          ]
        }
      ]
    },
    {
      "cell_type": "markdown",
      "source": [
        "The preceding lines perform the following operation:\n",
        "\n",
        "$\\frac{\\mathrm{dy(x)}}{\\mathrm{dx}}=2x$\n",
        "\n",
        "$\\frac{\\mathrm{dy(x=2)}}{\\mathrm{dx}}=2(2)=4$"
      ],
      "metadata": {
        "id": "XkN3ro7dMbNC"
      }
    },
    {
      "cell_type": "code",
      "source": [
        "print('data: ', x.data)\n",
        "print('grad_fn: ', x.grad_fn)\n",
        "print('grad: ', x.grad)\n",
        "print('is_leaf: ', x.is_leaf)\n",
        "print('requires_grad: ', x.requires_grad)"
      ],
      "metadata": {
        "colab": {
          "base_uri": "https://localhost:8080/"
        },
        "id": "r1kh51J2MGMZ",
        "outputId": "ee50605e-a4a2-44bd-874b-4598dbd80b35"
      },
      "execution_count": 12,
      "outputs": [
        {
          "output_type": "stream",
          "name": "stdout",
          "text": [
            "data:  tensor(2.)\n",
            "grad_fn:  None\n",
            "grad:  tensor(4.)\n",
            "is_leaf:  True\n",
            "requires_grad:  True\n"
          ]
        }
      ]
    },
    {
      "cell_type": "code",
      "source": [
        "# Calculate the y = x^2 + 2x + 1, then find the derivative\n",
        "\n",
        "x = torch.tensor(2.0,requires_grad = True)  # Create tensor x\n",
        "\n",
        "y= x**2 + 2*x + 1 # Create tensor y based on the ask\n",
        "\n",
        "# Take the derivative. Try to print out the derivative at the value x = 2\n",
        "y.backward()\n",
        "print(\"The Derivative at x=2: \",x.grad)"
      ],
      "metadata": {
        "colab": {
          "base_uri": "https://localhost:8080/"
        },
        "id": "Y1iHFrxZN4l1",
        "outputId": "224397c1-c03f-4eff-e535-2ab223223989"
      },
      "execution_count": 18,
      "outputs": [
        {
          "output_type": "stream",
          "name": "stdout",
          "text": [
            "The Derivative at x=2:  tensor(6.)\n"
          ]
        }
      ]
    },
    {
      "cell_type": "markdown",
      "source": [
        "The function is in the following form:\n",
        "$y=x^{2}+2x+1$\n",
        "\n",
        "The derivative is given by:\n",
        "\n",
        "$\\frac{\\mathrm{dy(x)}}{\\mathrm{dx}}=2x+2$\n",
        "\n",
        "$\\frac{\\mathrm{dy(x=2)}}{\\mathrm{dx}}=2(2)+2=6$"
      ],
      "metadata": {
        "id": "vYEa-qi_PDzV"
      }
    },
    {
      "cell_type": "code",
      "source": [
        "#Calculate the derivative of y = 2x^3 + x at x = 1\n",
        "\n",
        "# Create tensor x\n",
        "x = torch.tensor(1.0,requires_grad=True)\n",
        "\n",
        "# Create tensor y\n",
        "y = 2 * x ** 3 + x \n",
        "\n",
        "# Calculate Derivative\n",
        "y.backward()\n",
        "print(\"The Derivative of x=1: \", x.grad)"
      ],
      "metadata": {
        "colab": {
          "base_uri": "https://localhost:8080/"
        },
        "id": "4HLjRBlIOnxa",
        "outputId": "80a25c5c-d2f2-4ead-a258-c1e0d15bc259"
      },
      "execution_count": 20,
      "outputs": [
        {
          "output_type": "stream",
          "name": "stdout",
          "text": [
            "The Derivative of x=1:  tensor(7.)\n"
          ]
        }
      ]
    },
    {
      "cell_type": "markdown",
      "source": [
        "We can implement our own custom autograd Functions by subclassing\n",
        "torch.autograd.Function and implementing the forward and backward passes\n",
        "which operate on Tensors"
      ],
      "metadata": {
        "id": "J-0SbEc_P5n6"
      }
    },
    {
      "cell_type": "code",
      "source": [
        "class SQ(torch.autograd.Function):\n",
        "\n",
        "  def forward(ctx,i):\n",
        "\n",
        "    result = i**2\n",
        "    ctx.save_for_backward(i)\n",
        "    return result\n",
        "\n",
        "  def backward(ctx,grad_output):\n",
        "    i, = ctx.saved_tensors\n",
        "    grad_output = 2 * i\n",
        "    return grad_output\n",
        "\n"
      ],
      "metadata": {
        "id": "0F3U_faeP1s2"
      },
      "execution_count": 27,
      "outputs": []
    },
    {
      "cell_type": "code",
      "source": [
        "# We can apply it in function\n",
        "\n",
        "x = torch.tensor(2.0,requires_grad=True)\n",
        "sq = SQ.apply\n",
        "\n",
        "y = sq(x)\n",
        "y \n",
        "print(y.grad_fn)\n",
        "\n",
        "y.backward()\n",
        "x.grad"
      ],
      "metadata": {
        "colab": {
          "base_uri": "https://localhost:8080/"
        },
        "id": "mfWvDTooQk4x",
        "outputId": "f814670e-2182-4011-8808-85831b35b14d"
      },
      "execution_count": 28,
      "outputs": [
        {
          "output_type": "stream",
          "name": "stdout",
          "text": [
            "<torch.autograd.function.SQBackward object at 0x7fb7d264a750>\n"
          ]
        },
        {
          "output_type": "execute_result",
          "data": {
            "text/plain": [
              "tensor(4.)"
            ]
          },
          "metadata": {},
          "execution_count": 28
        }
      ]
    },
    {
      "cell_type": "markdown",
      "source": [
        "**2) Partial Derivatives**\n",
        "\n",
        "We can also calculate <b>Partial Derivatives</b>. Consider the function: $f(u,v)=vu+u^{2}$"
      ],
      "metadata": {
        "id": "F8E0G5ccSq8U"
      }
    },
    {
      "cell_type": "code",
      "source": [
        "# Calculate f(u, v) = v * u + u^2 at u = 1, v = 2\n",
        "\n",
        "# Create u and v tensors\n",
        "u = torch.tensor(1.0,requires_grad=True)\n",
        "v = torch.tensor(2.0,requires_grad=True)\n",
        "\n",
        "f =  v * u + u**2\n",
        "\n",
        "# Calculate Derivative for u and v\n",
        "\n",
        "f.backward()\n",
        "\n",
        "print(\"The Derivative for u: \", u.grad)\n",
        "print(\"The Derivative for v: \", v.grad)"
      ],
      "metadata": {
        "colab": {
          "base_uri": "https://localhost:8080/"
        },
        "id": "by3JL5BeSn-A",
        "outputId": "79595881-3789-4cf4-82c0-ae5cad647b45"
      },
      "execution_count": 30,
      "outputs": [
        {
          "output_type": "stream",
          "name": "stdout",
          "text": [
            "The Derivative for u:  tensor(4.)\n",
            "The Derivative for v:  tensor(1.)\n"
          ]
        }
      ]
    },
    {
      "cell_type": "markdown",
      "source": [
        "Calculate the derivative with respect to a function with multiple values as follows. You use the sum trick to produce a scalar valued function and then take the gradient:"
      ],
      "metadata": {
        "id": "zlQL4qG2WF0V"
      }
    },
    {
      "cell_type": "code",
      "source": [
        "# Calculate the derivative with multiple values\n",
        "\n",
        "x = torch.linspace(-10,10,10,requires_grad=True)\n",
        "\n",
        "Y = x ** 2\n",
        "\n",
        "y = torch.sum(x ** 2)\n"
      ],
      "metadata": {
        "id": "EVGCfl4maCnK"
      },
      "execution_count": 44,
      "outputs": []
    },
    {
      "cell_type": "markdown",
      "source": [
        "plotting graph\n"
      ],
      "metadata": {
        "id": "qxzhev5hWGj5"
      }
    },
    {
      "cell_type": "code",
      "source": [
        "# Take the derivative with respect to multiple value. Plot out the function and its derivative\n",
        "\n",
        "y.backward()\n",
        "\n",
        "plt.plot(x.detach().numpy(),Y.detach().numpy(),label=\"function\")\n",
        "plt.plot(x.detach().numpy(),x.grad.detach().numpy(),label=\"dervivates\")\n",
        "plt.xlabel('x')\n",
        "plt.legend()\n",
        "plt.show()"
      ],
      "metadata": {
        "colab": {
          "base_uri": "https://localhost:8080/",
          "height": 279
        },
        "id": "f2xZLLk9a1MO",
        "outputId": "0f4c3c09-c6b0-4a73-e1ae-55f7497d3fac"
      },
      "execution_count": 45,
      "outputs": [
        {
          "output_type": "display_data",
          "data": {
            "text/plain": [
              "<Figure size 432x288 with 1 Axes>"
            ],
            "image/png": "[encoded data removed]"
          },
          "metadata": {
            "needs_background": "light"
          }
        }
      ]
    },
    {
      "cell_type": "markdown",
      "source": [
        "# Construct Sample Dataset & Apply Transform"
      ],
      "metadata": {
        "id": "GQ9e-w-2WF6k"
      }
    },
    {
      "cell_type": "code",
      "source": [
        "import torch\n",
        "from torch.utils.data import Dataset\n",
        "torch.manual_seed(1)"
      ],
      "metadata": {
        "colab": {
          "base_uri": "https://localhost:8080/"
        },
        "id": "WJoKCF2SWcvW",
        "outputId": "324d6acc-f050-431a-fb64-97f9c6ccfccc"
      },
      "execution_count": 4,
      "outputs": [
        {
          "output_type": "execute_result",
          "data": {
            "text/plain": [
              "<torch._C.Generator at 0x7fcc7315f3d0>"
            ]
          },
          "metadata": {},
          "execution_count": 4
        }
      ]
    },
    {
      "cell_type": "code",
      "source": [
        "# Define class for dataset\n",
        "class torch_set(Dataset):\n",
        "\n",
        "  # Constructor\n",
        "  def __init__(self,length=100,transform=None):\n",
        "    self.len = length\n",
        "    self.x = 2 * torch.ones(length,2)\n",
        "    self.y = torch.ones(length,1)\n",
        "    self.transform = transform\n",
        "\n",
        "  # Get Class\n",
        "  def __getitem__(self,index):\n",
        "    sample = self.x[index], self.y[index]\n",
        "    if self.transform:\n",
        "      sample = self.transform(sample)\n",
        "    return sample\n",
        "\n",
        "  # Get the length\n",
        "  def __len__(self):\n",
        "    return self.len\n"
      ],
      "metadata": {
        "id": "yXQmydVaWxY5"
      },
      "execution_count": 23,
      "outputs": []
    },
    {
      "cell_type": "code",
      "source": [
        "# Create Dataset Object. Find out the value on index 1. Find out the length of Dataset Object.\n",
        "our_dataset = torch_set()\n",
        "print(\"the dateset is: \", our_dataset)\n",
        "print(\"The index o of the dataset: \",our_dataset[0])\n",
        "print(\"The length: \", len(our_dataset))"
      ],
      "metadata": {
        "colab": {
          "base_uri": "https://localhost:8080/"
        },
        "id": "zIq9ghb0ZM5m",
        "outputId": "00ac9efb-7601-41f3-8353-58efbb109ece"
      },
      "execution_count": 24,
      "outputs": [
        {
          "output_type": "stream",
          "name": "stdout",
          "text": [
            "the dateset is:  <__main__.torch_set object at 0x7fcc6a911790>\n",
            "The index o of the dataset:  (tensor([2., 2.]), tensor([1.]))\n",
            "The length:  100\n"
          ]
        }
      ]
    },
    {
      "cell_type": "code",
      "source": [
        "# Use loop to print out first 3 elements in dataset\n",
        "for i in range(3):\n",
        "  x,y = our_dataset[i]\n",
        "  print(\"index: \", i, \"x: \",x, \"y: \",y)"
      ],
      "metadata": {
        "colab": {
          "base_uri": "https://localhost:8080/"
        },
        "id": "uiwCNmDwaxT6",
        "outputId": "15822bf2-89dd-4ddf-d436-c246ea02810e"
      },
      "execution_count": 27,
      "outputs": [
        {
          "output_type": "stream",
          "name": "stdout",
          "text": [
            "index:  0 x:  tensor([2., 2.]) y:  tensor([1.])\n",
            "index:  1 x:  tensor([2., 2.]) y:  tensor([1.])\n",
            "index:  2 x:  tensor([2., 2.]) y:  tensor([1.])\n"
          ]
        }
      ]
    },
    {
      "cell_type": "code",
      "source": [
        "#The dataset object is an Iterable; as a result, we apply the loop directly on the dataset object\n",
        "for x,y in our_dataset:\n",
        "  print('x: ',x, 'y: ',y)"
      ],
      "metadata": {
        "colab": {
          "base_uri": "https://localhost:8080/"
        },
        "id": "deSLWwEwbf8h",
        "outputId": "87a28e84-5c0e-4379-9fc4-beb99b97634e"
      },
      "execution_count": 25,
      "outputs": [
        {
          "output_type": "stream",
          "name": "stdout",
          "text": [
            "x:  tensor([2., 2.]) y:  tensor([1.])\n",
            "x:  tensor([2., 2.]) y:  tensor([1.])\n",
            "x:  tensor([2., 2.]) y:  tensor([1.])\n",
            "x:  tensor([2., 2.]) y:  tensor([1.])\n",
            "x:  tensor([2., 2.]) y:  tensor([1.])\n",
            "x:  tensor([2., 2.]) y:  tensor([1.])\n",
            "x:  tensor([2., 2.]) y:  tensor([1.])\n",
            "x:  tensor([2., 2.]) y:  tensor([1.])\n",
            "x:  tensor([2., 2.]) y:  tensor([1.])\n",
            "x:  tensor([2., 2.]) y:  tensor([1.])\n",
            "x:  tensor([2., 2.]) y:  tensor([1.])\n",
            "x:  tensor([2., 2.]) y:  tensor([1.])\n",
            "x:  tensor([2., 2.]) y:  tensor([1.])\n",
            "x:  tensor([2., 2.]) y:  tensor([1.])\n",
            "x:  tensor([2., 2.]) y:  tensor([1.])\n",
            "x:  tensor([2., 2.]) y:  tensor([1.])\n",
            "x:  tensor([2., 2.]) y:  tensor([1.])\n",
            "x:  tensor([2., 2.]) y:  tensor([1.])\n",
            "x:  tensor([2., 2.]) y:  tensor([1.])\n",
            "x:  tensor([2., 2.]) y:  tensor([1.])\n",
            "x:  tensor([2., 2.]) y:  tensor([1.])\n",
            "x:  tensor([2., 2.]) y:  tensor([1.])\n",
            "x:  tensor([2., 2.]) y:  tensor([1.])\n",
            "x:  tensor([2., 2.]) y:  tensor([1.])\n",
            "x:  tensor([2., 2.]) y:  tensor([1.])\n",
            "x:  tensor([2., 2.]) y:  tensor([1.])\n",
            "x:  tensor([2., 2.]) y:  tensor([1.])\n",
            "x:  tensor([2., 2.]) y:  tensor([1.])\n",
            "x:  tensor([2., 2.]) y:  tensor([1.])\n",
            "x:  tensor([2., 2.]) y:  tensor([1.])\n",
            "x:  tensor([2., 2.]) y:  tensor([1.])\n",
            "x:  tensor([2., 2.]) y:  tensor([1.])\n",
            "x:  tensor([2., 2.]) y:  tensor([1.])\n",
            "x:  tensor([2., 2.]) y:  tensor([1.])\n",
            "x:  tensor([2., 2.]) y:  tensor([1.])\n",
            "x:  tensor([2., 2.]) y:  tensor([1.])\n",
            "x:  tensor([2., 2.]) y:  tensor([1.])\n",
            "x:  tensor([2., 2.]) y:  tensor([1.])\n",
            "x:  tensor([2., 2.]) y:  tensor([1.])\n",
            "x:  tensor([2., 2.]) y:  tensor([1.])\n",
            "x:  tensor([2., 2.]) y:  tensor([1.])\n",
            "x:  tensor([2., 2.]) y:  tensor([1.])\n",
            "x:  tensor([2., 2.]) y:  tensor([1.])\n",
            "x:  tensor([2., 2.]) y:  tensor([1.])\n",
            "x:  tensor([2., 2.]) y:  tensor([1.])\n",
            "x:  tensor([2., 2.]) y:  tensor([1.])\n",
            "x:  tensor([2., 2.]) y:  tensor([1.])\n",
            "x:  tensor([2., 2.]) y:  tensor([1.])\n",
            "x:  tensor([2., 2.]) y:  tensor([1.])\n",
            "x:  tensor([2., 2.]) y:  tensor([1.])\n",
            "x:  tensor([2., 2.]) y:  tensor([1.])\n",
            "x:  tensor([2., 2.]) y:  tensor([1.])\n",
            "x:  tensor([2., 2.]) y:  tensor([1.])\n",
            "x:  tensor([2., 2.]) y:  tensor([1.])\n",
            "x:  tensor([2., 2.]) y:  tensor([1.])\n",
            "x:  tensor([2., 2.]) y:  tensor([1.])\n",
            "x:  tensor([2., 2.]) y:  tensor([1.])\n",
            "x:  tensor([2., 2.]) y:  tensor([1.])\n",
            "x:  tensor([2., 2.]) y:  tensor([1.])\n",
            "x:  tensor([2., 2.]) y:  tensor([1.])\n",
            "x:  tensor([2., 2.]) y:  tensor([1.])\n",
            "x:  tensor([2., 2.]) y:  tensor([1.])\n",
            "x:  tensor([2., 2.]) y:  tensor([1.])\n",
            "x:  tensor([2., 2.]) y:  tensor([1.])\n",
            "x:  tensor([2., 2.]) y:  tensor([1.])\n",
            "x:  tensor([2., 2.]) y:  tensor([1.])\n",
            "x:  tensor([2., 2.]) y:  tensor([1.])\n",
            "x:  tensor([2., 2.]) y:  tensor([1.])\n",
            "x:  tensor([2., 2.]) y:  tensor([1.])\n",
            "x:  tensor([2., 2.]) y:  tensor([1.])\n",
            "x:  tensor([2., 2.]) y:  tensor([1.])\n",
            "x:  tensor([2., 2.]) y:  tensor([1.])\n",
            "x:  tensor([2., 2.]) y:  tensor([1.])\n",
            "x:  tensor([2., 2.]) y:  tensor([1.])\n",
            "x:  tensor([2., 2.]) y:  tensor([1.])\n",
            "x:  tensor([2., 2.]) y:  tensor([1.])\n",
            "x:  tensor([2., 2.]) y:  tensor([1.])\n",
            "x:  tensor([2., 2.]) y:  tensor([1.])\n",
            "x:  tensor([2., 2.]) y:  tensor([1.])\n",
            "x:  tensor([2., 2.]) y:  tensor([1.])\n",
            "x:  tensor([2., 2.]) y:  tensor([1.])\n",
            "x:  tensor([2., 2.]) y:  tensor([1.])\n",
            "x:  tensor([2., 2.]) y:  tensor([1.])\n",
            "x:  tensor([2., 2.]) y:  tensor([1.])\n",
            "x:  tensor([2., 2.]) y:  tensor([1.])\n",
            "x:  tensor([2., 2.]) y:  tensor([1.])\n",
            "x:  tensor([2., 2.]) y:  tensor([1.])\n",
            "x:  tensor([2., 2.]) y:  tensor([1.])\n",
            "x:  tensor([2., 2.]) y:  tensor([1.])\n",
            "x:  tensor([2., 2.]) y:  tensor([1.])\n",
            "x:  tensor([2., 2.]) y:  tensor([1.])\n",
            "x:  tensor([2., 2.]) y:  tensor([1.])\n",
            "x:  tensor([2., 2.]) y:  tensor([1.])\n",
            "x:  tensor([2., 2.]) y:  tensor([1.])\n",
            "x:  tensor([2., 2.]) y:  tensor([1.])\n",
            "x:  tensor([2., 2.]) y:  tensor([1.])\n",
            "x:  tensor([2., 2.]) y:  tensor([1.])\n",
            "x:  tensor([2., 2.]) y:  tensor([1.])\n",
            "x:  tensor([2., 2.]) y:  tensor([1.])\n",
            "x:  tensor([2., 2.]) y:  tensor([1.])\n"
          ]
        }
      ]
    },
    {
      "cell_type": "code",
      "source": [
        "# Practice: Create a new object with length 50, and print the length of object out.\n",
        "\n",
        "my_dataset = torch_set(length=50)\n",
        "\n",
        "print(\"The length is:\",len(my_dataset))"
      ],
      "metadata": {
        "colab": {
          "base_uri": "https://localhost:8080/"
        },
        "id": "2ZauQxvWc38b",
        "outputId": "1879488f-fb19-4664-ef1e-0b3b651ed9f9"
      },
      "execution_count": 31,
      "outputs": [
        {
          "output_type": "stream",
          "name": "stdout",
          "text": [
            "The length is: 50\n"
          ]
        }
      ]
    },
    {
      "cell_type": "markdown",
      "source": [
        "<h2 id=\"Transforms\">Apply Transform</h2>"
      ],
      "metadata": {
        "id": "4QXHyvgcjXx5"
      }
    },
    {
      "cell_type": "code",
      "source": [
        "# We can also create a class for transforming the data. In this case, we will try to add 1 to x and multiply y by 2:\n",
        "\n",
        "class add_mult(object):\n",
        "\n",
        "  #Constructor\n",
        "  def __init__(self,add_x = 1, mul_y =2):\n",
        "    self.add_x = add_x\n",
        "    self.mul_y = mul_y\n",
        "\n",
        "  def __call__(self,sample):\n",
        "    x = sample[0]\n",
        "    y = sample[1]\n",
        "    x = x + self.add_x\n",
        "    y = y * self.mul_y\n",
        "    sample = x,y\n",
        "    return sample"
      ],
      "metadata": {
        "id": "QOf22H7xdluz"
      },
      "execution_count": 45,
      "outputs": []
    },
    {
      "cell_type": "code",
      "source": [
        "# Create an add_mult transform object,\n",
        "trans_set = add_mult(add_x = 3, mul_y = 4)"
      ],
      "metadata": {
        "id": "BXVF-1jslakq"
      },
      "execution_count": 46,
      "outputs": []
    },
    {
      "cell_type": "code",
      "source": [
        "# Create a new data_set object with add_mult object as transform\n",
        "dataset_transform = torch_set(transform=trans_set)"
      ],
      "metadata": {
        "id": "CawWgrCmlmrM"
      },
      "execution_count": 47,
      "outputs": []
    },
    {
      "cell_type": "code",
      "source": [
        "# Use loop to print out first 10 elements in dataset\n",
        "for i in range(10):\n",
        "  x,y = dataset_transform[i]\n",
        "  print(\"index:\",i , \"x:\",x , \"y:\", y)"
      ],
      "metadata": {
        "colab": {
          "base_uri": "https://localhost:8080/"
        },
        "id": "o_yzvYU4mFfB",
        "outputId": "65791a3c-3cec-4769-e7b2-0464180cc3d0"
      },
      "execution_count": 48,
      "outputs": [
        {
          "output_type": "stream",
          "name": "stdout",
          "text": [
            "index: 0 x: tensor([5., 5.]) y: tensor([4.])\n",
            "index: 1 x: tensor([5., 5.]) y: tensor([4.])\n",
            "index: 2 x: tensor([5., 5.]) y: tensor([4.])\n",
            "index: 3 x: tensor([5., 5.]) y: tensor([4.])\n",
            "index: 4 x: tensor([5., 5.]) y: tensor([4.])\n",
            "index: 5 x: tensor([5., 5.]) y: tensor([4.])\n",
            "index: 6 x: tensor([5., 5.]) y: tensor([4.])\n",
            "index: 7 x: tensor([5., 5.]) y: tensor([4.])\n",
            "index: 8 x: tensor([5., 5.]) y: tensor([4.])\n",
            "index: 9 x: tensor([5., 5.]) y: tensor([4.])\n"
          ]
        }
      ]
    },
    {
      "cell_type": "markdown",
      "source": [
        "<h2 id=\"Compose\">Compose</h2>"
      ],
      "metadata": {
        "id": "HstDO-6CsZXA"
      }
    },
    {
      "cell_type": "code",
      "source": [
        ""
      ],
      "metadata": {
        "id": "4y-immvRne-o"
      },
      "execution_count": null,
      "outputs": []
    },
    {
      "cell_type": "code",
      "source": [
        ""
      ],
      "metadata": {
        "id": "JnBsWmXRnfzo"
      },
      "execution_count": null,
      "outputs": []
    }
  ]
}