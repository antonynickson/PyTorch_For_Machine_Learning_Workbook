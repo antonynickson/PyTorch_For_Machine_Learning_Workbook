{
  "nbformat": 4,
  "nbformat_minor": 0,
  "metadata": {
    "colab": {
      "name": "PyTorch For Machine Learning.ipynb",
      "provenance": [],
      "toc_visible": true,
      "collapsed_sections": [
        "xht-ehxeK82U",
        "MfWwzv1XLO9Q"
      ],
      "authorship_tag": "ABX9TyNVzbHjsUFcC2T0/NC+TqTE",
      "include_colab_link": true
    },
    "kernelspec": {
      "name": "python3",
      "display_name": "Python 3"
    },
    "language_info": {
      "name": "python"
    }
  },
  "cells": [
    {
      "cell_type": "markdown",
      "metadata": {
        "id": "view-in-github",
        "colab_type": "text"
      },
      "source": [
        "<a href=\"https://colab.research.google.com/github/antonynickson/PyTorch_For_Machine_Learning_Workbook/blob/main/PyTorch_For_Machine_Learning.ipynb\" target=\"_parent\"><img src=\"https://colab.research.google.com/assets/colab-badge.svg\" alt=\"Open In Colab\"/></a>"
      ]
    },
    {
      "cell_type": "markdown",
      "source": [
        "\n",
        "\n",
        "```\n",
        "\n",
        "```\n",
        "\n",
        "# **1D Dimensional Excercises**"
      ],
      "metadata": {
        "id": "azbl9GIkKoqF"
      }
    },
    {
      "cell_type": "markdown",
      "source": [
        "\n",
        "**1) Basic Operations**"
      ],
      "metadata": {
        "id": "WT396y5P0fn2"
      }
    },
    {
      "cell_type": "code",
      "execution_count": null,
      "metadata": {
        "id": "7lc3I19cqg3W"
      },
      "outputs": [],
      "source": [
        "import torch"
      ]
    },
    {
      "cell_type": "code",
      "source": [
        "a = torch.tensor([7,1,3,2]) #Create a 1-D array tensor\n",
        "a.dtype  #Find the data type\n",
        "a.type() #Find tensor type"
      ],
      "metadata": {
        "colab": {
          "base_uri": "https://localhost:8080/"
        },
        "id": "zBSD3EDm0alF",
        "outputId": "71ca2ba2-a750-45d7-9c99-759c23df65e2"
      },
      "execution_count": null,
      "outputs": [
        {
          "output_type": "execute_result",
          "data": {
            "text/plain": [
              "torch.int64"
            ]
          },
          "metadata": {},
          "execution_count": 7
        }
      ]
    },
    {
      "cell_type": "code",
      "source": [
        "a = torch.tensor([7,1,2,3], dtype = torch.int) # Create a 1-D tensor and assign a datatype\n",
        "a.type()"
      ],
      "metadata": {
        "colab": {
          "base_uri": "https://localhost:8080/",
          "height": 35
        },
        "id": "20JGbSrkwodh",
        "outputId": "331ee81e-fb8b-46c4-af21-d0f314f7ded1"
      },
      "execution_count": null,
      "outputs": [
        {
          "output_type": "execute_result",
          "data": {
            "text/plain": [
              "'torch.IntTensor'"
            ],
            "application/vnd.google.colaboratory.intrinsic+json": {
              "type": "string"
            }
          },
          "metadata": {},
          "execution_count": 12
        }
      ]
    },
    {
      "cell_type": "code",
      "source": [
        "a = torch.FloatTensor([7.1,2,4,5]) # Create a 1-D float tensor using torch.FloatTensor\n",
        "a"
      ],
      "metadata": {
        "colab": {
          "base_uri": "https://localhost:8080/"
        },
        "id": "TGS72lA-3yxx",
        "outputId": "d2355b25-776d-4209-a1d7-928e6ba581ce"
      },
      "execution_count": null,
      "outputs": [
        {
          "output_type": "execute_result",
          "data": {
            "text/plain": [
              "tensor([7.1000, 2.0000, 4.0000, 5.0000])"
            ]
          },
          "metadata": {},
          "execution_count": 15
        }
      ]
    },
    {
      "cell_type": "code",
      "source": [
        "a = torch.tensor([6,3,4,2])\n",
        "a = a.type(torch.FloatTensor)  # Changing int to float tensor type\n",
        "a.type()"
      ],
      "metadata": {
        "colab": {
          "base_uri": "https://localhost:8080/",
          "height": 35
        },
        "id": "nDDqu0o63nmA",
        "outputId": "74c7bd12-f847-4311-be4e-7bb51cf58f7b"
      },
      "execution_count": null,
      "outputs": [
        {
          "output_type": "execute_result",
          "data": {
            "text/plain": [
              "'torch.FloatTensor'"
            ],
            "application/vnd.google.colaboratory.intrinsic+json": {
              "type": "string"
            }
          },
          "metadata": {},
          "execution_count": 17
        }
      ]
    },
    {
      "cell_type": "code",
      "source": [
        "a = torch.tensor([2,3,4,5])\n",
        "a.size() # FInd the size of the tensor\n",
        "a.ndimension() # Find the dimension of the tensor"
      ],
      "metadata": {
        "colab": {
          "base_uri": "https://localhost:8080/"
        },
        "id": "g6931Co84o0z",
        "outputId": "ca81a7dc-2159-4710-d6cd-aafd5c110ed0"
      },
      "execution_count": null,
      "outputs": [
        {
          "output_type": "execute_result",
          "data": {
            "text/plain": [
              "1"
            ]
          },
          "metadata": {},
          "execution_count": 20
        }
      ]
    },
    {
      "cell_type": "code",
      "source": [
        "a = torch.tensor([6,6,4,3,2,2])\n",
        "a_2d = a.view(-1,1) # convert 1D in to 2D. Also, we use -1 asuming we dont know the number of elements in the tensor. if we know then we can use a.view(6,1)\n",
        "a_2d.ndimension()"
      ],
      "metadata": {
        "colab": {
          "base_uri": "https://localhost:8080/"
        },
        "id": "kemLPlWI45e2",
        "outputId": "aebc0e5b-9725-4a07-aa0d-a888fa864c60"
      },
      "execution_count": null,
      "outputs": [
        {
          "output_type": "execute_result",
          "data": {
            "text/plain": [
              "2"
            ]
          },
          "metadata": {},
          "execution_count": 23
        }
      ]
    },
    {
      "cell_type": "code",
      "source": [
        "import numpy as np\n",
        "n = np.array([1,3,4,56,6,6]) # Create a numpy 1D array\n",
        "a = torch.from_numpy(n) # convert numpy array in to a tensor array\n",
        "a.type()"
      ],
      "metadata": {
        "colab": {
          "base_uri": "https://localhost:8080/",
          "height": 35
        },
        "id": "Ccr6fPCB55wk",
        "outputId": "172b6dc2-df1a-419d-c8f1-76d9d59de99c"
      },
      "execution_count": null,
      "outputs": [
        {
          "output_type": "execute_result",
          "data": {
            "text/plain": [
              "'torch.LongTensor'"
            ],
            "application/vnd.google.colaboratory.intrinsic+json": {
              "type": "string"
            }
          },
          "metadata": {},
          "execution_count": 25
        }
      ]
    },
    {
      "cell_type": "code",
      "source": [
        "a = torch.tensor([4,56]) # Create a tensor 1D array\n",
        "n = a.numpy() # Convert tensor array to numpy array\n",
        "type(n) # check the type of the numpy array in numpy\n"
      ],
      "metadata": {
        "colab": {
          "base_uri": "https://localhost:8080/"
        },
        "id": "DzXpwDOp6xa-",
        "outputId": "f85c13d8-e318-47d1-8fc6-b0bc31cd84bb"
      },
      "execution_count": null,
      "outputs": [
        {
          "output_type": "execute_result",
          "data": {
            "text/plain": [
              "numpy.ndarray"
            ]
          },
          "metadata": {},
          "execution_count": 30
        }
      ]
    },
    {
      "cell_type": "code",
      "source": [
        "import pandas as pd\n",
        "p = pd.Series([9,345,45,4]) # Create a pandas series array\n",
        "a = torch.from_numpy(p.values) # convert pandas series array in to a tensor array\n",
        "a.type()"
      ],
      "metadata": {
        "colab": {
          "base_uri": "https://localhost:8080/",
          "height": 35
        },
        "id": "2-tS-I7d7Qae",
        "outputId": "cc597884-c4a2-44a5-be72-c6a6caaf0a28"
      },
      "execution_count": null,
      "outputs": [
        {
          "output_type": "execute_result",
          "data": {
            "text/plain": [
              "'torch.LongTensor'"
            ],
            "application/vnd.google.colaboratory.intrinsic+json": {
              "type": "string"
            }
          },
          "metadata": {},
          "execution_count": 32
        }
      ]
    },
    {
      "cell_type": "code",
      "source": [
        "a = torch.tensor([3,4,5,3])\n",
        "l = a.tolist() # To convert tensor array in to a list\n",
        "l"
      ],
      "metadata": {
        "colab": {
          "base_uri": "https://localhost:8080/"
        },
        "id": "eGie6qZF-fO2",
        "outputId": "6a72ea13-4e17-4150-a97b-e0c1d0d47719"
      },
      "execution_count": null,
      "outputs": [
        {
          "output_type": "execute_result",
          "data": {
            "text/plain": [
              "[3, 4, 5, 3]"
            ]
          },
          "metadata": {},
          "execution_count": 40
        }
      ]
    },
    {
      "cell_type": "code",
      "source": [
        "import torch\n",
        "\n",
        "a= 2 * torch.ones(100,2)\n",
        "a"
      ],
      "metadata": {
        "colab": {
          "base_uri": "https://localhost:8080/"
        },
        "id": "D1qOwCWBHmf4",
        "outputId": "7048a883-8580-4ef9-a5c7-87a66085d1a6"
      },
      "execution_count": null,
      "outputs": [
        {
          "output_type": "execute_result",
          "data": {
            "text/plain": [
              "tensor([[2., 2.],\n",
              "        [2., 2.],\n",
              "        [2., 2.],\n",
              "        [2., 2.],\n",
              "        [2., 2.],\n",
              "        [2., 2.],\n",
              "        [2., 2.],\n",
              "        [2., 2.],\n",
              "        [2., 2.],\n",
              "        [2., 2.],\n",
              "        [2., 2.],\n",
              "        [2., 2.],\n",
              "        [2., 2.],\n",
              "        [2., 2.],\n",
              "        [2., 2.],\n",
              "        [2., 2.],\n",
              "        [2., 2.],\n",
              "        [2., 2.],\n",
              "        [2., 2.],\n",
              "        [2., 2.],\n",
              "        [2., 2.],\n",
              "        [2., 2.],\n",
              "        [2., 2.],\n",
              "        [2., 2.],\n",
              "        [2., 2.],\n",
              "        [2., 2.],\n",
              "        [2., 2.],\n",
              "        [2., 2.],\n",
              "        [2., 2.],\n",
              "        [2., 2.],\n",
              "        [2., 2.],\n",
              "        [2., 2.],\n",
              "        [2., 2.],\n",
              "        [2., 2.],\n",
              "        [2., 2.],\n",
              "        [2., 2.],\n",
              "        [2., 2.],\n",
              "        [2., 2.],\n",
              "        [2., 2.],\n",
              "        [2., 2.],\n",
              "        [2., 2.],\n",
              "        [2., 2.],\n",
              "        [2., 2.],\n",
              "        [2., 2.],\n",
              "        [2., 2.],\n",
              "        [2., 2.],\n",
              "        [2., 2.],\n",
              "        [2., 2.],\n",
              "        [2., 2.],\n",
              "        [2., 2.],\n",
              "        [2., 2.],\n",
              "        [2., 2.],\n",
              "        [2., 2.],\n",
              "        [2., 2.],\n",
              "        [2., 2.],\n",
              "        [2., 2.],\n",
              "        [2., 2.],\n",
              "        [2., 2.],\n",
              "        [2., 2.],\n",
              "        [2., 2.],\n",
              "        [2., 2.],\n",
              "        [2., 2.],\n",
              "        [2., 2.],\n",
              "        [2., 2.],\n",
              "        [2., 2.],\n",
              "        [2., 2.],\n",
              "        [2., 2.],\n",
              "        [2., 2.],\n",
              "        [2., 2.],\n",
              "        [2., 2.],\n",
              "        [2., 2.],\n",
              "        [2., 2.],\n",
              "        [2., 2.],\n",
              "        [2., 2.],\n",
              "        [2., 2.],\n",
              "        [2., 2.],\n",
              "        [2., 2.],\n",
              "        [2., 2.],\n",
              "        [2., 2.],\n",
              "        [2., 2.],\n",
              "        [2., 2.],\n",
              "        [2., 2.],\n",
              "        [2., 2.],\n",
              "        [2., 2.],\n",
              "        [2., 2.],\n",
              "        [2., 2.],\n",
              "        [2., 2.],\n",
              "        [2., 2.],\n",
              "        [2., 2.],\n",
              "        [2., 2.],\n",
              "        [2., 2.],\n",
              "        [2., 2.],\n",
              "        [2., 2.],\n",
              "        [2., 2.],\n",
              "        [2., 2.],\n",
              "        [2., 2.],\n",
              "        [2., 2.],\n",
              "        [2., 2.],\n",
              "        [2., 2.],\n",
              "        [2., 2.]])"
            ]
          },
          "metadata": {},
          "execution_count": 2
        }
      ]
    },
    {
      "cell_type": "markdown",
      "source": [
        "**2) Indexing & Slicing**"
      ],
      "metadata": {
        "id": "c7LUoBt58Bqa"
      }
    },
    {
      "cell_type": "code",
      "source": [
        "a = torch.tensor([3,4,5,6,3,2,2,1]) # Create a tensor 1D array\n",
        "a"
      ],
      "metadata": {
        "colab": {
          "base_uri": "https://localhost:8080/"
        },
        "id": "5h4uVB9J8Jq1",
        "outputId": "902172fc-082e-4dcf-cf72-da8834f57c34"
      },
      "execution_count": null,
      "outputs": [
        {
          "output_type": "execute_result",
          "data": {
            "text/plain": [
              "tensor([3, 4, 5, 6, 3, 2, 2, 1])"
            ]
          },
          "metadata": {},
          "execution_count": 33
        }
      ]
    },
    {
      "cell_type": "code",
      "source": [
        "a[0] # Print the index value of tensor array"
      ],
      "metadata": {
        "colab": {
          "base_uri": "https://localhost:8080/"
        },
        "id": "Y_jNp-a88ncz",
        "outputId": "a3f0eca8-e8c7-42ee-e2b1-74463838e06f"
      },
      "execution_count": null,
      "outputs": [
        {
          "output_type": "execute_result",
          "data": {
            "text/plain": [
              "tensor(3)"
            ]
          },
          "metadata": {},
          "execution_count": 34
        }
      ]
    },
    {
      "cell_type": "code",
      "source": [
        "a[1:3] # Print the index value range of tensor array"
      ],
      "metadata": {
        "colab": {
          "base_uri": "https://localhost:8080/"
        },
        "id": "zaDMkdzM8xBH",
        "outputId": "f92e5085-1fde-4546-ff7b-f9a0c10d6df1"
      },
      "execution_count": null,
      "outputs": [
        {
          "output_type": "execute_result",
          "data": {
            "text/plain": [
              "tensor([0.0635, 0.1269])"
            ]
          },
          "metadata": {},
          "execution_count": 68
        }
      ]
    },
    {
      "cell_type": "code",
      "source": [
        "b = a[0:2] # Slicing the tensor array 'a' and creating a new array 'b\n",
        "b"
      ],
      "metadata": {
        "colab": {
          "base_uri": "https://localhost:8080/"
        },
        "id": "h9X6XMnj9cMc",
        "outputId": "e8f99354-6f1d-4953-8bc5-a709fe44a9c0"
      },
      "execution_count": null,
      "outputs": [
        {
          "output_type": "execute_result",
          "data": {
            "text/plain": [
              "tensor([3, 4])"
            ]
          },
          "metadata": {},
          "execution_count": 38
        }
      ]
    },
    {
      "cell_type": "code",
      "source": [
        "a = torch.tensor([3,4,5])\n",
        "a[0] = 0  # we can change the index value of the tensor array\n",
        "a"
      ],
      "metadata": {
        "colab": {
          "base_uri": "https://localhost:8080/"
        },
        "id": "bP1Pp-y6-DD4",
        "outputId": "b0a7c0ab-5b20-4100-eed7-642917ccd2f3"
      },
      "execution_count": null,
      "outputs": [
        {
          "output_type": "execute_result",
          "data": {
            "text/plain": [
              "tensor([0, 4, 5])"
            ]
          },
          "metadata": {},
          "execution_count": 41
        }
      ]
    },
    {
      "cell_type": "code",
      "source": [
        "a[1:3] = torch.tensor([0,0])  # Change the value of indexies of the tensor array. Also, make a note that we have used [1:3] instead of [1:2]\n",
        "a"
      ],
      "metadata": {
        "colab": {
          "base_uri": "https://localhost:8080/"
        },
        "id": "vjmIkv51_I6W",
        "outputId": "9092c587-a91f-435d-9d1e-ff7fa83d00fc"
      },
      "execution_count": null,
      "outputs": [
        {
          "output_type": "execute_result",
          "data": {
            "text/plain": [
              "tensor([0, 0, 0])"
            ]
          },
          "metadata": {},
          "execution_count": 46
        }
      ]
    },
    {
      "cell_type": "markdown",
      "source": [
        "**3) Vector Operations**\n",
        "\n",
        "> Indented block\n",
        "\n",
        "\n",
        "\n",
        "Rule: They should be of same type to peform this operation"
      ],
      "metadata": {
        "id": "kzZTDMCY_uoa"
      }
    },
    {
      "cell_type": "code",
      "source": [
        "u = torch.tensor([1,2]) # create a 1-D array\n",
        "v = torch.tensor([0,1])\n",
        "\n",
        "z = u+v # Vector Addition\n",
        "z"
      ],
      "metadata": {
        "colab": {
          "base_uri": "https://localhost:8080/"
        },
        "id": "2X8dGGv4_nHA",
        "outputId": "d253c315-8525-489f-9e0b-acb46eae0a45"
      },
      "execution_count": null,
      "outputs": [
        {
          "output_type": "execute_result",
          "data": {
            "text/plain": [
              "tensor([1, 3])"
            ]
          },
          "metadata": {},
          "execution_count": 69
        }
      ]
    },
    {
      "cell_type": "code",
      "source": [
        "z = u-v # Vector Subtraction\n",
        "z"
      ],
      "metadata": {
        "colab": {
          "base_uri": "https://localhost:8080/"
        },
        "id": "GIDEFYYdAR-F",
        "outputId": "7375414b-c2d3-4369-8766-4ca4c7fbf05d"
      },
      "execution_count": null,
      "outputs": [
        {
          "output_type": "execute_result",
          "data": {
            "text/plain": [
              "tensor([-1, -1])"
            ]
          },
          "metadata": {},
          "execution_count": 49
        }
      ]
    },
    {
      "cell_type": "code",
      "source": [
        "z = u * 2 # Vector scalar multiplication\n",
        "z"
      ],
      "metadata": {
        "colab": {
          "base_uri": "https://localhost:8080/"
        },
        "id": "90JXkVrnAXno",
        "outputId": "06fe16e5-0cbc-4eda-a8f4-78e3a301da75"
      },
      "execution_count": null,
      "outputs": [
        {
          "output_type": "execute_result",
          "data": {
            "text/plain": [
              "tensor([6, 8])"
            ]
          },
          "metadata": {},
          "execution_count": 50
        }
      ]
    },
    {
      "cell_type": "code",
      "source": [
        "z = u * v # Product of two tensors\n",
        "z"
      ],
      "metadata": {
        "colab": {
          "base_uri": "https://localhost:8080/"
        },
        "id": "I5L0_4KmBON4",
        "outputId": "e9897f3e-ebc1-478b-d2ba-e0ee4e67a8e3"
      },
      "execution_count": null,
      "outputs": [
        {
          "output_type": "execute_result",
          "data": {
            "text/plain": [
              "tensor([12, 20])"
            ]
          },
          "metadata": {},
          "execution_count": 51
        }
      ]
    },
    {
      "cell_type": "code",
      "source": [
        "z = torch.dot(u,v) # Dot Product ie) Transpose(u) * v\n",
        "z"
      ],
      "metadata": {
        "colab": {
          "base_uri": "https://localhost:8080/"
        },
        "id": "ctHbpcrYBsGa",
        "outputId": "9f3c8bdd-4193-4469-af74-017871d4bdf7"
      },
      "execution_count": null,
      "outputs": [
        {
          "output_type": "execute_result",
          "data": {
            "text/plain": [
              "tensor(2)"
            ]
          },
          "metadata": {},
          "execution_count": 70
        }
      ]
    },
    {
      "cell_type": "code",
      "source": [
        "z = u + 1 # Broadcasting -> Adding a constant value to a tensor\n",
        "z"
      ],
      "metadata": {
        "colab": {
          "base_uri": "https://localhost:8080/"
        },
        "id": "9q_P9dVQD4Nj",
        "outputId": "1ab129a2-6337-41ce-a7bd-96b0818ddf21"
      },
      "execution_count": null,
      "outputs": [
        {
          "output_type": "execute_result",
          "data": {
            "text/plain": [
              "tensor([4, 5])"
            ]
          },
          "metadata": {},
          "execution_count": 53
        }
      ]
    },
    {
      "cell_type": "markdown",
      "source": [
        "**4. Universal Functions**"
      ],
      "metadata": {
        "id": "fw-5OcZ9EF81"
      }
    },
    {
      "cell_type": "code",
      "source": [
        "a = torch.FloatTensor([1,-1,1,1])\n",
        "a.mean() # To check mean we need to create a FloatTensor"
      ],
      "metadata": {
        "colab": {
          "base_uri": "https://localhost:8080/"
        },
        "id": "pxg9-MgMEAbq",
        "outputId": "265ff0dc-65a9-4b47-af14-7fdf0e638054"
      },
      "execution_count": null,
      "outputs": [
        {
          "output_type": "execute_result",
          "data": {
            "text/plain": [
              "tensor(0.5000)"
            ]
          },
          "metadata": {},
          "execution_count": 58
        }
      ]
    },
    {
      "cell_type": "code",
      "source": [
        "a.max() # Find maximum"
      ],
      "metadata": {
        "colab": {
          "base_uri": "https://localhost:8080/"
        },
        "id": "F-uAI7MeEsyO",
        "outputId": "e5970217-68bc-4117-8372-e7ba9d64324e"
      },
      "execution_count": null,
      "outputs": [
        {
          "output_type": "execute_result",
          "data": {
            "text/plain": [
              "tensor(1.)"
            ]
          },
          "metadata": {},
          "execution_count": 59
        }
      ]
    },
    {
      "cell_type": "code",
      "source": [
        "a = torch.tensor([0,np.pi/2,np.pi])\n",
        "b = torch.sin(a)\n",
        "b"
      ],
      "metadata": {
        "colab": {
          "base_uri": "https://localhost:8080/"
        },
        "id": "CdmBd5p2E3AX",
        "outputId": "fa794df7-eb22-4fde-9562-411b519f6e42"
      },
      "execution_count": null,
      "outputs": [
        {
          "output_type": "execute_result",
          "data": {
            "text/plain": [
              "tensor([ 0.0000e+00,  1.0000e+00, -8.7423e-08])"
            ]
          },
          "metadata": {},
          "execution_count": 61
        }
      ]
    },
    {
      "cell_type": "code",
      "source": [
        "a = torch.linspace(-2,2,steps=9) # this creates 9 values from -2 to 2\n",
        "a"
      ],
      "metadata": {
        "colab": {
          "base_uri": "https://localhost:8080/"
        },
        "id": "LrxgT724HhJU",
        "outputId": "eb839682-1dab-4f02-d62d-e9b1faf4aec5"
      },
      "execution_count": null,
      "outputs": [
        {
          "output_type": "execute_result",
          "data": {
            "text/plain": [
              "tensor([-2.0000, -1.5000, -1.0000, -0.5000,  0.0000,  0.5000,  1.0000,  1.5000,\n",
              "         2.0000])"
            ]
          },
          "metadata": {},
          "execution_count": 63
        }
      ]
    },
    {
      "cell_type": "code",
      "source": [
        "a = torch.linspace(0,2*np.pi,100)\n",
        "a"
      ],
      "metadata": {
        "colab": {
          "base_uri": "https://localhost:8080/"
        },
        "id": "oAnixsIzH4Gg",
        "outputId": "d6d0ba4b-46e8-402f-f2c3-3d9266ce21a1"
      },
      "execution_count": null,
      "outputs": [
        {
          "output_type": "execute_result",
          "data": {
            "text/plain": [
              "tensor([0.0000, 0.0635, 0.1269, 0.1904, 0.2539, 0.3173, 0.3808, 0.4443, 0.5077,\n",
              "        0.5712, 0.6347, 0.6981, 0.7616, 0.8251, 0.8885, 0.9520, 1.0155, 1.0789,\n",
              "        1.1424, 1.2059, 1.2693, 1.3328, 1.3963, 1.4597, 1.5232, 1.5867, 1.6501,\n",
              "        1.7136, 1.7771, 1.8405, 1.9040, 1.9675, 2.0309, 2.0944, 2.1579, 2.2213,\n",
              "        2.2848, 2.3483, 2.4117, 2.4752, 2.5387, 2.6021, 2.6656, 2.7291, 2.7925,\n",
              "        2.8560, 2.9195, 2.9829, 3.0464, 3.1099, 3.1733, 3.2368, 3.3003, 3.3637,\n",
              "        3.4272, 3.4907, 3.5541, 3.6176, 3.6811, 3.7445, 3.8080, 3.8715, 3.9349,\n",
              "        3.9984, 4.0619, 4.1253, 4.1888, 4.2523, 4.3157, 4.3792, 4.4427, 4.5061,\n",
              "        4.5696, 4.6331, 4.6965, 4.7600, 4.8235, 4.8869, 4.9504, 5.0139, 5.0773,\n",
              "        5.1408, 5.2043, 5.2677, 5.3312, 5.3947, 5.4581, 5.5216, 5.5851, 5.6485,\n",
              "        5.7120, 5.7755, 5.8389, 5.9024, 5.9659, 6.0293, 6.0928, 6.1563, 6.2197,\n",
              "        6.2832])"
            ]
          },
          "metadata": {},
          "execution_count": 64
        }
      ]
    },
    {
      "cell_type": "code",
      "source": [
        "b=torch.sin(a)\n",
        "b"
      ],
      "metadata": {
        "colab": {
          "base_uri": "https://localhost:8080/"
        },
        "id": "0QNNNJ5KILSq",
        "outputId": "fba8e826-9cb5-4843-c92e-56419babf619"
      },
      "execution_count": null,
      "outputs": [
        {
          "output_type": "execute_result",
          "data": {
            "text/plain": [
              "tensor([ 0.0000e+00,  6.3424e-02,  1.2659e-01,  1.8925e-01,  2.5115e-01,\n",
              "         3.1203e-01,  3.7166e-01,  4.2979e-01,  4.8620e-01,  5.4064e-01,\n",
              "         5.9291e-01,  6.4279e-01,  6.9008e-01,  7.3459e-01,  7.7615e-01,\n",
              "         8.1458e-01,  8.4973e-01,  8.8145e-01,  9.0963e-01,  9.3415e-01,\n",
              "         9.5490e-01,  9.7181e-01,  9.8481e-01,  9.9384e-01,  9.9887e-01,\n",
              "         9.9987e-01,  9.9685e-01,  9.8982e-01,  9.7880e-01,  9.6384e-01,\n",
              "         9.4500e-01,  9.2235e-01,  8.9599e-01,  8.6603e-01,  8.3257e-01,\n",
              "         7.9576e-01,  7.5575e-01,  7.1269e-01,  6.6677e-01,  6.1816e-01,\n",
              "         5.6706e-01,  5.1368e-01,  4.5823e-01,  4.0093e-01,  3.4202e-01,\n",
              "         2.8173e-01,  2.2031e-01,  1.5800e-01,  9.5056e-02,  3.1728e-02,\n",
              "        -3.1728e-02, -9.5056e-02, -1.5800e-01, -2.2031e-01, -2.8173e-01,\n",
              "        -3.4202e-01, -4.0093e-01, -4.5823e-01, -5.1368e-01, -5.6706e-01,\n",
              "        -6.1816e-01, -6.6677e-01, -7.1269e-01, -7.5575e-01, -7.9576e-01,\n",
              "        -8.3257e-01, -8.6603e-01, -8.9599e-01, -9.2235e-01, -9.4500e-01,\n",
              "        -9.6384e-01, -9.7880e-01, -9.8982e-01, -9.9685e-01, -9.9987e-01,\n",
              "        -9.9887e-01, -9.9384e-01, -9.8481e-01, -9.7181e-01, -9.5490e-01,\n",
              "        -9.3415e-01, -9.0963e-01, -8.8145e-01, -8.4973e-01, -8.1458e-01,\n",
              "        -7.7615e-01, -7.3459e-01, -6.9008e-01, -6.4279e-01, -5.9291e-01,\n",
              "        -5.4064e-01, -4.8620e-01, -4.2979e-01, -3.7166e-01, -3.1203e-01,\n",
              "        -2.5115e-01, -1.8925e-01, -1.2659e-01, -6.3424e-02,  1.7485e-07])"
            ]
          },
          "metadata": {},
          "execution_count": 66
        }
      ]
    },
    {
      "cell_type": "code",
      "source": [
        "import matplotlib.pyplot as plt\n",
        "%matplotlib inline\n",
        "\n",
        "plt.plot(a.numpy(),b.numpy()) # Plot the a and b using matplotlib; we need to convert the tensor array to numpy while plotting it"
      ],
      "metadata": {
        "colab": {
          "base_uri": "https://localhost:8080/",
          "height": 282
        },
        "id": "V41tTNZVHy3d",
        "outputId": "0f28b2f6-561e-47ae-bd49-0b377b1655d4"
      },
      "execution_count": null,
      "outputs": [
        {
          "output_type": "execute_result",
          "data": {
            "text/plain": [
              "[<matplotlib.lines.Line2D at 0x7effd637cc90>]"
            ]
          },
          "metadata": {},
          "execution_count": 67
        },
        {
          "output_type": "display_data",
          "data": {
            "text/plain": [
              "<Figure size 432x288 with 1 Axes>"
            ],
            "image/png": "[encoded data removed]"
          },
          "metadata": {
            "needs_background": "light"
          }
        }
      ]
    },
    {
      "cell_type": "markdown",
      "source": [
        "#2D Dimensional Excercises"
      ],
      "metadata": {
        "id": "xht-ehxeK82U"
      }
    },
    {
      "cell_type": "markdown",
      "source": [
        "**1) Basic Operations**"
      ],
      "metadata": {
        "id": "diZs7JxiXMsb"
      }
    },
    {
      "cell_type": "code",
      "source": [
        "import torch\n",
        "a = torch.tensor([[1,2,3],[3,3,4]])\n",
        "a.size() # Check the size\n",
        "a.ndimension() #check the dimemsion\n",
        "a.numel() # check the number of elements in the tensor\n",
        "a.shape # Find the shape"
      ],
      "metadata": {
        "id": "vyR1yBNlI10O",
        "colab": {
          "base_uri": "https://localhost:8080/"
        },
        "outputId": "81da3b11-63b6-46a9-ac78-9ba263cf3a6d"
      },
      "execution_count": null,
      "outputs": [
        {
          "output_type": "execute_result",
          "data": {
            "text/plain": [
              "torch.Size([2, 3])"
            ]
          },
          "metadata": {},
          "execution_count": 10
        }
      ]
    },
    {
      "cell_type": "code",
      "source": [
        "a=torch.tensor([[0,1,1],[1,0,1]])\n",
        "a.size()"
      ],
      "metadata": {
        "colab": {
          "base_uri": "https://localhost:8080/"
        },
        "id": "y-fsgXAYcmms",
        "outputId": "c9e1f35c-8be2-4c8a-dc71-cd6f93b049fc"
      },
      "execution_count": null,
      "outputs": [
        {
          "output_type": "execute_result",
          "data": {
            "text/plain": [
              "torch.Size([2, 3])"
            ]
          },
          "metadata": {},
          "execution_count": 46
        }
      ]
    },
    {
      "cell_type": "code",
      "source": [
        "l = [[1,2,3],[3,5,5]]\n",
        "a = torch.tensor(l)  #convert list in to an tensor array\n",
        "a"
      ],
      "metadata": {
        "colab": {
          "base_uri": "https://localhost:8080/"
        },
        "id": "PpDi1uOVU3iG",
        "outputId": "adb3627f-f2d3-4190-ffdc-dad61803ff1c"
      },
      "execution_count": null,
      "outputs": [
        {
          "output_type": "execute_result",
          "data": {
            "text/plain": [
              "tensor([[1, 2, 3],\n",
              "        [3, 5, 5]])"
            ]
          },
          "metadata": {},
          "execution_count": 13
        }
      ]
    },
    {
      "cell_type": "code",
      "source": [
        "import numpy as np\n",
        "\n",
        "n = a.numpy()  # convert tensor in to numpy\n",
        "n"
      ],
      "metadata": {
        "colab": {
          "base_uri": "https://localhost:8080/"
        },
        "id": "Pj7hd7pJVJIP",
        "outputId": "22ac2c84-d9ca-4cc5-a40e-5d39c2b3d5f8"
      },
      "execution_count": null,
      "outputs": [
        {
          "output_type": "execute_result",
          "data": {
            "text/plain": [
              "array([[1, 2, 3],\n",
              "       [3, 5, 5]])"
            ]
          },
          "metadata": {},
          "execution_count": 19
        }
      ]
    },
    {
      "cell_type": "code",
      "source": [
        "a = torch.from_numpy(n) #Convert numpy in to tensor\n",
        "a"
      ],
      "metadata": {
        "colab": {
          "base_uri": "https://localhost:8080/"
        },
        "id": "TjJSPkTuVkgz",
        "outputId": "659d0f38-3ccb-4bf1-ab67-7cefacdac71c"
      },
      "execution_count": null,
      "outputs": [
        {
          "output_type": "execute_result",
          "data": {
            "text/plain": [
              "tensor([[1, 2, 3],\n",
              "        [3, 5, 5]])"
            ]
          },
          "metadata": {},
          "execution_count": 22
        }
      ]
    },
    {
      "cell_type": "code",
      "source": [
        "import pandas as pd\n",
        "\n",
        "df = pd.DataFrame({'a':[2,3,4], 'b': [4,5,6]}) #Convert Pandas dataframe in to Tensor\n",
        "\n",
        "a= torch.from_numpy(df.values)\n",
        "a"
      ],
      "metadata": {
        "colab": {
          "base_uri": "https://localhost:8080/"
        },
        "id": "01Mqqh60VxZ3",
        "outputId": "12f25088-8a1e-4518-cc65-ca1d6aea23a5"
      },
      "execution_count": null,
      "outputs": [
        {
          "output_type": "execute_result",
          "data": {
            "text/plain": [
              "tensor([[2, 4],\n",
              "        [3, 5],\n",
              "        [4, 6]])"
            ]
          },
          "metadata": {},
          "execution_count": 27
        }
      ]
    },
    {
      "cell_type": "markdown",
      "source": [
        "**2) Indexing & Slicing**"
      ],
      "metadata": {
        "id": "j5GTc8uUXRlg"
      }
    },
    {
      "cell_type": "code",
      "source": [
        "a = torch.tensor([[2,3,4],[4,5,6]])\n",
        "a[0][0]  # Indexing first element of the array"
      ],
      "metadata": {
        "colab": {
          "base_uri": "https://localhost:8080/"
        },
        "id": "NxLLAW6pWgaB",
        "outputId": "381dd892-4728-43d5-b24b-4a9b241f7f76"
      },
      "execution_count": null,
      "outputs": [
        {
          "output_type": "execute_result",
          "data": {
            "text/plain": [
              "tensor(2)"
            ]
          },
          "metadata": {},
          "execution_count": 30
        }
      ]
    },
    {
      "cell_type": "code",
      "source": [
        "a[0,1:3] #Slicing"
      ],
      "metadata": {
        "colab": {
          "base_uri": "https://localhost:8080/"
        },
        "id": "4o9TyjSAXiIB",
        "outputId": "2f37bc3e-69db-4706-920c-9f1c6f846f43"
      },
      "execution_count": null,
      "outputs": [
        {
          "output_type": "execute_result",
          "data": {
            "text/plain": [
              "tensor([3, 4])"
            ]
          },
          "metadata": {},
          "execution_count": 31
        }
      ]
    },
    {
      "cell_type": "code",
      "source": [
        "a[1][0:2] #Slicing"
      ],
      "metadata": {
        "colab": {
          "base_uri": "https://localhost:8080/"
        },
        "id": "wKNVVjGNXmas",
        "outputId": "a6c74411-fff4-4d0e-e18d-e920edfee9e8"
      },
      "execution_count": null,
      "outputs": [
        {
          "output_type": "execute_result",
          "data": {
            "text/plain": [
              "tensor([4, 5])"
            ]
          },
          "metadata": {},
          "execution_count": 32
        }
      ]
    },
    {
      "cell_type": "code",
      "source": [
        "tensor_example = torch.tensor([[11, 12, 13], [21, 22, 23], [31, 32, 33]])\n",
        "sliced_tensor_example = tensor_example[1:3]\n",
        "print(\"1. Slicing step on tensor_example: \")\n",
        "print(\"Result after tensor_example[1:3]: \", sliced_tensor_example)\n",
        "print(\"Dimension after tensor_example[1:3]: \", sliced_tensor_example.ndimension())\n",
        "print(\"================================================\")\n",
        "print(\"2. Pick an index on sliced_tensor_example: \")\n",
        "print(\"Result after sliced_tensor_example[1]: \", sliced_tensor_example[1])\n",
        "print(\"Dimension after sliced_tensor_example[1]: \", sliced_tensor_example[1].ndimension())\n",
        "print(\"================================================\")\n",
        "print(\"3. Combine these step together:\")\n",
        "print(\"Result: \", tensor_example[1:3][1])\n",
        "print(\"Dimension: \", tensor_example[1:3][1].ndimension())"
      ],
      "metadata": {
        "colab": {
          "base_uri": "https://localhost:8080/"
        },
        "id": "3VT_LobJXxWC",
        "outputId": "0480ea41-b4a2-46b3-f5ce-b99c8e1e467b"
      },
      "execution_count": null,
      "outputs": [
        {
          "output_type": "stream",
          "name": "stdout",
          "text": [
            "1. Slicing step on tensor_example: \n",
            "Result after tensor_example[1:3]:  tensor([[21, 22, 23],\n",
            "        [31, 32, 33]])\n",
            "Dimension after tensor_example[1:3]:  2\n",
            "================================================\n",
            "2. Pick an index on sliced_tensor_example: \n",
            "Result after sliced_tensor_example[1]:  tensor([31, 32, 33])\n",
            "Dimension after sliced_tensor_example[1]:  1\n",
            "================================================\n",
            "3. Combine these step together:\n",
            "Result:  tensor([31, 32, 33])\n",
            "Dimension:  1\n"
          ]
        }
      ]
    },
    {
      "cell_type": "markdown",
      "source": [
        "**3) Vector Calculations**"
      ],
      "metadata": {
        "id": "FPm2iJBiaAgy"
      }
    },
    {
      "cell_type": "code",
      "source": [
        "x = torch.tensor([[2,3,4],[5,6,7]])\n",
        "y = torch.tensor([[1,2,3],[7,8,9]])"
      ],
      "metadata": {
        "id": "ubGf9XdHZ_pu"
      },
      "execution_count": null,
      "outputs": []
    },
    {
      "cell_type": "code",
      "source": [
        "z = x + y\n",
        "z"
      ],
      "metadata": {
        "colab": {
          "base_uri": "https://localhost:8080/"
        },
        "id": "UTHHLGV3bNSr",
        "outputId": "c9e783fd-e0d9-4cdb-86a1-7b54639f8440"
      },
      "execution_count": null,
      "outputs": [
        {
          "output_type": "execute_result",
          "data": {
            "text/plain": [
              "tensor([[ 3,  5,  7],\n",
              "        [12, 14, 16]])"
            ]
          },
          "metadata": {},
          "execution_count": 36
        }
      ]
    },
    {
      "cell_type": "code",
      "source": [
        "z = 2*x + y\n",
        "z"
      ],
      "metadata": {
        "colab": {
          "base_uri": "https://localhost:8080/"
        },
        "id": "0tuHV7jMbPVz",
        "outputId": "fc772893-3e54-40a8-97a9-972e5590cdeb"
      },
      "execution_count": null,
      "outputs": [
        {
          "output_type": "execute_result",
          "data": {
            "text/plain": [
              "tensor([[ 5,  8, 11],\n",
              "        [17, 20, 23]])"
            ]
          },
          "metadata": {},
          "execution_count": 39
        }
      ]
    },
    {
      "cell_type": "code",
      "source": [
        "z = x * y\n",
        "z"
      ],
      "metadata": {
        "colab": {
          "base_uri": "https://localhost:8080/"
        },
        "id": "QFfXOrrxcLDf",
        "outputId": "58a9d498-24e3-4408-e229-0d99ac3c5844"
      },
      "execution_count": null,
      "outputs": [
        {
          "output_type": "execute_result",
          "data": {
            "text/plain": [
              "tensor([[ 2,  6, 12],\n",
              "        [35, 48, 63]])"
            ]
          },
          "metadata": {},
          "execution_count": 45
        }
      ]
    },
    {
      "cell_type": "code",
      "source": [
        "# For matrix multiplication, the number of columns of the 1st matrix and number of rows of the 2nd shuld be of same number\n",
        "x = torch.tensor([[2,3,4],[4,5,6]])\n",
        "y = torch.tensor([[1,2],[3,4],[5,6]])\n",
        "\n",
        "z = torch.mm(x,y)\n",
        "z"
      ],
      "metadata": {
        "colab": {
          "base_uri": "https://localhost:8080/"
        },
        "id": "smmZECfvbWFC",
        "outputId": "dfed80cb-76ec-4bc0-d34d-703591776b6a"
      },
      "execution_count": null,
      "outputs": [
        {
          "output_type": "execute_result",
          "data": {
            "text/plain": [
              "tensor([[31, 40],\n",
              "        [49, 64]])"
            ]
          },
          "metadata": {},
          "execution_count": 41
        }
      ]
    },
    {
      "cell_type": "code",
      "source": [
        "A = torch.tensor([[0, 1, 1], [1, 0, 1]])\n",
        "B = torch.tensor([[1, 1], [1, 1], [-1, 1]])\n",
        "A_times_B = torch.mm(A,B)\n",
        "A_times_B"
      ],
      "metadata": {
        "colab": {
          "base_uri": "https://localhost:8080/"
        },
        "id": "WiZ_mNcZdFIN",
        "outputId": "741c9cf1-94d8-46eb-91ba-8e663a8ece31"
      },
      "execution_count": null,
      "outputs": [
        {
          "output_type": "execute_result",
          "data": {
            "text/plain": [
              "tensor([[0, 2],\n",
              "        [0, 2]])"
            ]
          },
          "metadata": {},
          "execution_count": 49
        }
      ]
    },
    {
      "cell_type": "code",
      "source": [
        "X = torch.tensor([[1, 0], [0, 1]])\n",
        "Y = torch.tensor([[2, 1], [1, 2]]) \n",
        "X_times_Y = X * Y\n",
        "X_times_Y"
      ],
      "metadata": {
        "colab": {
          "base_uri": "https://localhost:8080/"
        },
        "id": "LsMWGZIAZXib",
        "outputId": "2a46dda5-1c6d-4f91-c01a-aabbe0667824"
      },
      "execution_count": null,
      "outputs": [
        {
          "output_type": "execute_result",
          "data": {
            "text/plain": [
              "tensor([[2, 0],\n",
              "        [0, 2]])"
            ]
          },
          "metadata": {},
          "execution_count": 48
        }
      ]
    },
    {
      "cell_type": "markdown",
      "source": [
        "# Derivates (Simple & Partial)"
      ],
      "metadata": {
        "id": "MfWwzv1XLO9Q"
      }
    },
    {
      "cell_type": "markdown",
      "source": [
        "**1) Simple Derivatives**"
      ],
      "metadata": {
        "id": "M6pmTZa6MkaC"
      }
    },
    {
      "cell_type": "code",
      "source": [
        "import torch\n",
        "import matplotlib.pylab as plt"
      ],
      "metadata": {
        "id": "amaEmN8TLX4i"
      },
      "execution_count": null,
      "outputs": []
    },
    {
      "cell_type": "code",
      "source": [
        "x = torch.tensor(2.0,requires_grad = True) #Create tensor x\n",
        "\n",
        "y = x ** 2  # Create tensor y\n",
        "\n",
        "# Take the derivative. Try to print out the derivative at the value x = 2\n",
        "y.backward() \n",
        "print(\"The Derivative of x: \", x.grad)"
      ],
      "metadata": {
        "colab": {
          "base_uri": "https://localhost:8080/"
        },
        "id": "l0RUyfhNLtFK",
        "outputId": "3f269e82-3bf0-410e-ee35-101dd90c40c5"
      },
      "execution_count": null,
      "outputs": [
        {
          "output_type": "stream",
          "name": "stdout",
          "text": [
            "The Derivative of x:  tensor(4.)\n"
          ]
        }
      ]
    },
    {
      "cell_type": "markdown",
      "source": [
        "The preceding lines perform the following operation:\n",
        "\n",
        "$\\frac{\\mathrm{dy(x)}}{\\mathrm{dx}}=2x$\n",
        "\n",
        "$\\frac{\\mathrm{dy(x=2)}}{\\mathrm{dx}}=2(2)=4$"
      ],
      "metadata": {
        "id": "XkN3ro7dMbNC"
      }
    },
    {
      "cell_type": "code",
      "source": [
        "print('data: ', x.data)\n",
        "print('grad_fn: ', x.grad_fn)\n",
        "print('grad: ', x.grad)\n",
        "print('is_leaf: ', x.is_leaf)\n",
        "print('requires_grad: ', x.requires_grad)"
      ],
      "metadata": {
        "colab": {
          "base_uri": "https://localhost:8080/"
        },
        "id": "r1kh51J2MGMZ",
        "outputId": "ee50605e-a4a2-44bd-874b-4598dbd80b35"
      },
      "execution_count": null,
      "outputs": [
        {
          "output_type": "stream",
          "name": "stdout",
          "text": [
            "data:  tensor(2.)\n",
            "grad_fn:  None\n",
            "grad:  tensor(4.)\n",
            "is_leaf:  True\n",
            "requires_grad:  True\n"
          ]
        }
      ]
    },
    {
      "cell_type": "code",
      "source": [
        "# Calculate the y = x^2 + 2x + 1, then find the derivative\n",
        "\n",
        "x = torch.tensor(2.0,requires_grad = True)  # Create tensor x\n",
        "\n",
        "y= x**2 + 2*x + 1 # Create tensor y based on the ask\n",
        "\n",
        "# Take the derivative. Try to print out the derivative at the value x = 2\n",
        "y.backward()\n",
        "print(\"The Derivative at x=2: \",x.grad)"
      ],
      "metadata": {
        "colab": {
          "base_uri": "https://localhost:8080/"
        },
        "id": "Y1iHFrxZN4l1",
        "outputId": "224397c1-c03f-4eff-e535-2ab223223989"
      },
      "execution_count": null,
      "outputs": [
        {
          "output_type": "stream",
          "name": "stdout",
          "text": [
            "The Derivative at x=2:  tensor(6.)\n"
          ]
        }
      ]
    },
    {
      "cell_type": "markdown",
      "source": [
        "The function is in the following form:\n",
        "$y=x^{2}+2x+1$\n",
        "\n",
        "The derivative is given by:\n",
        "\n",
        "$\\frac{\\mathrm{dy(x)}}{\\mathrm{dx}}=2x+2$\n",
        "\n",
        "$\\frac{\\mathrm{dy(x=2)}}{\\mathrm{dx}}=2(2)+2=6$"
      ],
      "metadata": {
        "id": "vYEa-qi_PDzV"
      }
    },
    {
      "cell_type": "code",
      "source": [
        "#Calculate the derivative of y = 2x^3 + x at x = 1\n",
        "\n",
        "# Create tensor x\n",
        "x = torch.tensor(1.0,requires_grad=True)\n",
        "\n",
        "# Create tensor y\n",
        "y = 2 * x ** 3 + x \n",
        "\n",
        "# Calculate Derivative\n",
        "y.backward()\n",
        "print(\"The Derivative of x=1: \", x.grad)"
      ],
      "metadata": {
        "colab": {
          "base_uri": "https://localhost:8080/"
        },
        "id": "4HLjRBlIOnxa",
        "outputId": "80a25c5c-d2f2-4ead-a258-c1e0d15bc259"
      },
      "execution_count": null,
      "outputs": [
        {
          "output_type": "stream",
          "name": "stdout",
          "text": [
            "The Derivative of x=1:  tensor(7.)\n"
          ]
        }
      ]
    },
    {
      "cell_type": "markdown",
      "source": [
        "We can implement our own custom autograd Functions by subclassing\n",
        "torch.autograd.Function and implementing the forward and backward passes\n",
        "which operate on Tensors"
      ],
      "metadata": {
        "id": "J-0SbEc_P5n6"
      }
    },
    {
      "cell_type": "code",
      "source": [
        "class SQ(torch.autograd.Function):\n",
        "\n",
        "  def forward(ctx,i):\n",
        "\n",
        "    result = i**2\n",
        "    ctx.save_for_backward(i)\n",
        "    return result\n",
        "\n",
        "  def backward(ctx,grad_output):\n",
        "    i, = ctx.saved_tensors\n",
        "    grad_output = 2 * i\n",
        "    return grad_output\n",
        "\n"
      ],
      "metadata": {
        "id": "0F3U_faeP1s2"
      },
      "execution_count": null,
      "outputs": []
    },
    {
      "cell_type": "code",
      "source": [
        "# We can apply it in function\n",
        "\n",
        "x = torch.tensor(2.0,requires_grad=True)\n",
        "sq = SQ.apply\n",
        "\n",
        "y = sq(x)\n",
        "y \n",
        "print(y.grad_fn)\n",
        "\n",
        "y.backward()\n",
        "x.grad"
      ],
      "metadata": {
        "colab": {
          "base_uri": "https://localhost:8080/"
        },
        "id": "mfWvDTooQk4x",
        "outputId": "f814670e-2182-4011-8808-85831b35b14d"
      },
      "execution_count": null,
      "outputs": [
        {
          "output_type": "stream",
          "name": "stdout",
          "text": [
            "<torch.autograd.function.SQBackward object at 0x7fb7d264a750>\n"
          ]
        },
        {
          "output_type": "execute_result",
          "data": {
            "text/plain": [
              "tensor(4.)"
            ]
          },
          "metadata": {},
          "execution_count": 28
        }
      ]
    },
    {
      "cell_type": "markdown",
      "source": [
        "**2) Partial Derivatives**\n",
        "\n",
        "We can also calculate <b>Partial Derivatives</b>. Consider the function: $f(u,v)=vu+u^{2}$"
      ],
      "metadata": {
        "id": "F8E0G5ccSq8U"
      }
    },
    {
      "cell_type": "code",
      "source": [
        "# Calculate f(u, v) = v * u + u^2 at u = 1, v = 2\n",
        "\n",
        "# Create u and v tensors\n",
        "u = torch.tensor(1.0,requires_grad=True)\n",
        "v = torch.tensor(2.0,requires_grad=True)\n",
        "\n",
        "f =  v * u + u**2\n",
        "\n",
        "# Calculate Derivative for u and v\n",
        "\n",
        "f.backward()\n",
        "\n",
        "print(\"The Derivative for u: \", u.grad)\n",
        "print(\"The Derivative for v: \", v.grad)"
      ],
      "metadata": {
        "colab": {
          "base_uri": "https://localhost:8080/"
        },
        "id": "by3JL5BeSn-A",
        "outputId": "79595881-3789-4cf4-82c0-ae5cad647b45"
      },
      "execution_count": null,
      "outputs": [
        {
          "output_type": "stream",
          "name": "stdout",
          "text": [
            "The Derivative for u:  tensor(4.)\n",
            "The Derivative for v:  tensor(1.)\n"
          ]
        }
      ]
    },
    {
      "cell_type": "markdown",
      "source": [
        "Calculate the derivative with respect to a function with multiple values as follows. You use the sum trick to produce a scalar valued function and then take the gradient:"
      ],
      "metadata": {
        "id": "zlQL4qG2WF0V"
      }
    },
    {
      "cell_type": "code",
      "source": [
        "# Calculate the derivative with multiple values\n",
        "\n",
        "x = torch.linspace(-10,10,10,requires_grad=True)\n",
        "\n",
        "Y = x ** 2\n",
        "\n",
        "y = torch.sum(x ** 2)\n"
      ],
      "metadata": {
        "id": "EVGCfl4maCnK"
      },
      "execution_count": null,
      "outputs": []
    },
    {
      "cell_type": "markdown",
      "source": [
        "plotting graph\n"
      ],
      "metadata": {
        "id": "qxzhev5hWGj5"
      }
    },
    {
      "cell_type": "code",
      "source": [
        "# Take the derivative with respect to multiple value. Plot out the function and its derivative\n",
        "\n",
        "y.backward()\n",
        "\n",
        "plt.plot(x.detach().numpy(),Y.detach().numpy(),label=\"function\")\n",
        "plt.plot(x.detach().numpy(),x.grad.detach().numpy(),label=\"dervivates\")\n",
        "plt.xlabel('x')\n",
        "plt.legend()\n",
        "plt.show()"
      ],
      "metadata": {
        "colab": {
          "base_uri": "https://localhost:8080/",
          "height": 279
        },
        "id": "f2xZLLk9a1MO",
        "outputId": "0f4c3c09-c6b0-4a73-e1ae-55f7497d3fac"
      },
      "execution_count": null,
      "outputs": [
        {
          "output_type": "display_data",
          "data": {
            "text/plain": [
              "<Figure size 432x288 with 1 Axes>"
            ],
            "image/png": "[encoded data removed]"
          },
          "metadata": {
            "needs_background": "light"
          }
        }
      ]
    },
    {
      "cell_type": "markdown",
      "source": [
        "# Construct Dataset & Apply Transform & Compose"
      ],
      "metadata": {
        "id": "GQ9e-w-2WF6k"
      }
    },
    {
      "cell_type": "code",
      "source": [
        "import torch\n",
        "from torch.utils.data import Dataset\n",
        "torch.manual_seed(1)"
      ],
      "metadata": {
        "colab": {
          "base_uri": "https://localhost:8080/"
        },
        "id": "WJoKCF2SWcvW",
        "outputId": "d245ea80-28a9-492d-c316-146d4a5e66fd"
      },
      "execution_count": null,
      "outputs": [
        {
          "output_type": "execute_result",
          "data": {
            "text/plain": [
              "<torch._C.Generator at 0x7fcc7315f3d0>"
            ]
          },
          "metadata": {},
          "execution_count": 106
        }
      ]
    },
    {
      "cell_type": "code",
      "source": [
        "# Define class for dataset\n",
        "class torch_set(Dataset):\n",
        "\n",
        "  # Constructor\n",
        "  def __init__(self,length=100,transform=None):\n",
        "    self.len = length\n",
        "    self.x = 2 * torch.ones(length,2)\n",
        "    self.y = torch.ones(length,1)\n",
        "    self.transform = transform\n",
        "\n",
        "  # Get Class\n",
        "  def __getitem__(self,index):\n",
        "    sample = self.x[index], self.y[index]\n",
        "    if self.transform:\n",
        "      sample = self.transform(sample)\n",
        "    return sample\n",
        "\n",
        "  # Get the length\n",
        "  def __len__(self):\n",
        "    return self.len\n"
      ],
      "metadata": {
        "id": "yXQmydVaWxY5"
      },
      "execution_count": null,
      "outputs": []
    },
    {
      "cell_type": "code",
      "source": [
        "# Create Dataset Object. Find out the value on index 1. Find out the length of Dataset Object.\n",
        "our_dataset = torch_set()\n",
        "print(\"the dateset is: \", our_dataset)\n",
        "print(\"The index o of the dataset: \",our_dataset[0])\n",
        "print(\"The length: \", len(our_dataset))"
      ],
      "metadata": {
        "colab": {
          "base_uri": "https://localhost:8080/"
        },
        "id": "zIq9ghb0ZM5m",
        "outputId": "3f3379ec-fb40-45c9-cdd8-0d72f2685139"
      },
      "execution_count": null,
      "outputs": [
        {
          "output_type": "stream",
          "name": "stdout",
          "text": [
            "the dateset is:  <__main__.torch_set object at 0x7fcc67ee58d0>\n",
            "The index o of the dataset:  (tensor([2., 2.]), tensor([1.]))\n",
            "The length:  100\n"
          ]
        }
      ]
    },
    {
      "cell_type": "code",
      "source": [
        "# Use loop to print out first 3 elements in dataset\n",
        "for i in range(3):\n",
        "  x,y = our_dataset[i]\n",
        "  print(\"index: \", i, \"x: \",x, \"y: \",y)"
      ],
      "metadata": {
        "colab": {
          "base_uri": "https://localhost:8080/"
        },
        "id": "uiwCNmDwaxT6",
        "outputId": "14864a2f-f1ea-403f-8e65-281613ac6c84"
      },
      "execution_count": null,
      "outputs": [
        {
          "output_type": "stream",
          "name": "stdout",
          "text": [
            "index:  0 x:  tensor([2., 2.]) y:  tensor([1.])\n",
            "index:  1 x:  tensor([2., 2.]) y:  tensor([1.])\n",
            "index:  2 x:  tensor([2., 2.]) y:  tensor([1.])\n"
          ]
        }
      ]
    },
    {
      "cell_type": "code",
      "source": [
        "#The dataset object is an Iterable; as a result, we apply the loop directly on the dataset object\n",
        "for x,y in our_dataset:\n",
        "  print('x: ',x, 'y: ',y)"
      ],
      "metadata": {
        "colab": {
          "base_uri": "https://localhost:8080/"
        },
        "id": "deSLWwEwbf8h",
        "outputId": "83f833ed-2d28-4d99-9dfa-f26616dccb51"
      },
      "execution_count": null,
      "outputs": [
        {
          "output_type": "stream",
          "name": "stdout",
          "text": [
            "x:  tensor([2., 2.]) y:  tensor([1.])\n",
            "x:  tensor([2., 2.]) y:  tensor([1.])\n",
            "x:  tensor([2., 2.]) y:  tensor([1.])\n",
            "x:  tensor([2., 2.]) y:  tensor([1.])\n",
            "x:  tensor([2., 2.]) y:  tensor([1.])\n",
            "x:  tensor([2., 2.]) y:  tensor([1.])\n",
            "x:  tensor([2., 2.]) y:  tensor([1.])\n",
            "x:  tensor([2., 2.]) y:  tensor([1.])\n",
            "x:  tensor([2., 2.]) y:  tensor([1.])\n",
            "x:  tensor([2., 2.]) y:  tensor([1.])\n",
            "x:  tensor([2., 2.]) y:  tensor([1.])\n",
            "x:  tensor([2., 2.]) y:  tensor([1.])\n",
            "x:  tensor([2., 2.]) y:  tensor([1.])\n",
            "x:  tensor([2., 2.]) y:  tensor([1.])\n",
            "x:  tensor([2., 2.]) y:  tensor([1.])\n",
            "x:  tensor([2., 2.]) y:  tensor([1.])\n",
            "x:  tensor([2., 2.]) y:  tensor([1.])\n",
            "x:  tensor([2., 2.]) y:  tensor([1.])\n",
            "x:  tensor([2., 2.]) y:  tensor([1.])\n",
            "x:  tensor([2., 2.]) y:  tensor([1.])\n",
            "x:  tensor([2., 2.]) y:  tensor([1.])\n",
            "x:  tensor([2., 2.]) y:  tensor([1.])\n",
            "x:  tensor([2., 2.]) y:  tensor([1.])\n",
            "x:  tensor([2., 2.]) y:  tensor([1.])\n",
            "x:  tensor([2., 2.]) y:  tensor([1.])\n",
            "x:  tensor([2., 2.]) y:  tensor([1.])\n",
            "x:  tensor([2., 2.]) y:  tensor([1.])\n",
            "x:  tensor([2., 2.]) y:  tensor([1.])\n",
            "x:  tensor([2., 2.]) y:  tensor([1.])\n",
            "x:  tensor([2., 2.]) y:  tensor([1.])\n",
            "x:  tensor([2., 2.]) y:  tensor([1.])\n",
            "x:  tensor([2., 2.]) y:  tensor([1.])\n",
            "x:  tensor([2., 2.]) y:  tensor([1.])\n",
            "x:  tensor([2., 2.]) y:  tensor([1.])\n",
            "x:  tensor([2., 2.]) y:  tensor([1.])\n",
            "x:  tensor([2., 2.]) y:  tensor([1.])\n",
            "x:  tensor([2., 2.]) y:  tensor([1.])\n",
            "x:  tensor([2., 2.]) y:  tensor([1.])\n",
            "x:  tensor([2., 2.]) y:  tensor([1.])\n",
            "x:  tensor([2., 2.]) y:  tensor([1.])\n",
            "x:  tensor([2., 2.]) y:  tensor([1.])\n",
            "x:  tensor([2., 2.]) y:  tensor([1.])\n",
            "x:  tensor([2., 2.]) y:  tensor([1.])\n",
            "x:  tensor([2., 2.]) y:  tensor([1.])\n",
            "x:  tensor([2., 2.]) y:  tensor([1.])\n",
            "x:  tensor([2., 2.]) y:  tensor([1.])\n",
            "x:  tensor([2., 2.]) y:  tensor([1.])\n",
            "x:  tensor([2., 2.]) y:  tensor([1.])\n",
            "x:  tensor([2., 2.]) y:  tensor([1.])\n",
            "x:  tensor([2., 2.]) y:  tensor([1.])\n",
            "x:  tensor([2., 2.]) y:  tensor([1.])\n",
            "x:  tensor([2., 2.]) y:  tensor([1.])\n",
            "x:  tensor([2., 2.]) y:  tensor([1.])\n",
            "x:  tensor([2., 2.]) y:  tensor([1.])\n",
            "x:  tensor([2., 2.]) y:  tensor([1.])\n",
            "x:  tensor([2., 2.]) y:  tensor([1.])\n",
            "x:  tensor([2., 2.]) y:  tensor([1.])\n",
            "x:  tensor([2., 2.]) y:  tensor([1.])\n",
            "x:  tensor([2., 2.]) y:  tensor([1.])\n",
            "x:  tensor([2., 2.]) y:  tensor([1.])\n",
            "x:  tensor([2., 2.]) y:  tensor([1.])\n",
            "x:  tensor([2., 2.]) y:  tensor([1.])\n",
            "x:  tensor([2., 2.]) y:  tensor([1.])\n",
            "x:  tensor([2., 2.]) y:  tensor([1.])\n",
            "x:  tensor([2., 2.]) y:  tensor([1.])\n",
            "x:  tensor([2., 2.]) y:  tensor([1.])\n",
            "x:  tensor([2., 2.]) y:  tensor([1.])\n",
            "x:  tensor([2., 2.]) y:  tensor([1.])\n",
            "x:  tensor([2., 2.]) y:  tensor([1.])\n",
            "x:  tensor([2., 2.]) y:  tensor([1.])\n",
            "x:  tensor([2., 2.]) y:  tensor([1.])\n",
            "x:  tensor([2., 2.]) y:  tensor([1.])\n",
            "x:  tensor([2., 2.]) y:  tensor([1.])\n",
            "x:  tensor([2., 2.]) y:  tensor([1.])\n",
            "x:  tensor([2., 2.]) y:  tensor([1.])\n",
            "x:  tensor([2., 2.]) y:  tensor([1.])\n",
            "x:  tensor([2., 2.]) y:  tensor([1.])\n",
            "x:  tensor([2., 2.]) y:  tensor([1.])\n",
            "x:  tensor([2., 2.]) y:  tensor([1.])\n",
            "x:  tensor([2., 2.]) y:  tensor([1.])\n",
            "x:  tensor([2., 2.]) y:  tensor([1.])\n",
            "x:  tensor([2., 2.]) y:  tensor([1.])\n",
            "x:  tensor([2., 2.]) y:  tensor([1.])\n",
            "x:  tensor([2., 2.]) y:  tensor([1.])\n",
            "x:  tensor([2., 2.]) y:  tensor([1.])\n",
            "x:  tensor([2., 2.]) y:  tensor([1.])\n",
            "x:  tensor([2., 2.]) y:  tensor([1.])\n",
            "x:  tensor([2., 2.]) y:  tensor([1.])\n",
            "x:  tensor([2., 2.]) y:  tensor([1.])\n",
            "x:  tensor([2., 2.]) y:  tensor([1.])\n",
            "x:  tensor([2., 2.]) y:  tensor([1.])\n",
            "x:  tensor([2., 2.]) y:  tensor([1.])\n",
            "x:  tensor([2., 2.]) y:  tensor([1.])\n",
            "x:  tensor([2., 2.]) y:  tensor([1.])\n",
            "x:  tensor([2., 2.]) y:  tensor([1.])\n",
            "x:  tensor([2., 2.]) y:  tensor([1.])\n",
            "x:  tensor([2., 2.]) y:  tensor([1.])\n",
            "x:  tensor([2., 2.]) y:  tensor([1.])\n",
            "x:  tensor([2., 2.]) y:  tensor([1.])\n",
            "x:  tensor([2., 2.]) y:  tensor([1.])\n"
          ]
        }
      ]
    },
    {
      "cell_type": "code",
      "source": [
        "# Practice: Create a new object with length 50, and print the length of object out.\n",
        "\n",
        "my_dataset = torch_set(length=50)\n",
        "\n",
        "print(\"The length is:\",len(my_dataset))"
      ],
      "metadata": {
        "colab": {
          "base_uri": "https://localhost:8080/"
        },
        "id": "2ZauQxvWc38b",
        "outputId": "c7d15070-7a24-427f-e217-e657670a344e"
      },
      "execution_count": null,
      "outputs": [
        {
          "output_type": "stream",
          "name": "stdout",
          "text": [
            "The length is: 50\n"
          ]
        }
      ]
    },
    {
      "cell_type": "markdown",
      "source": [
        "<h2 id=\"Transforms\">Apply Transform</h2>"
      ],
      "metadata": {
        "id": "4QXHyvgcjXx5"
      }
    },
    {
      "cell_type": "code",
      "source": [
        "# We can also create a class for transforming the data. In this case, we will try to add 1 to x and multiply y by 2:\n",
        "\n",
        "class add_mult(object):\n",
        "\n",
        "  #Constructor\n",
        "  def __init__(self,add_x = 1, mul_y =2):\n",
        "    self.add_x = add_x\n",
        "    self.mul_y = mul_y\n",
        "\n",
        "  def __call__(self,sample):\n",
        "    x = sample[0]\n",
        "    y = sample[1]\n",
        "    x = x + self.add_x\n",
        "    y = y * self.mul_y\n",
        "    sample = x,y\n",
        "    return sample"
      ],
      "metadata": {
        "id": "QOf22H7xdluz"
      },
      "execution_count": null,
      "outputs": []
    },
    {
      "cell_type": "code",
      "source": [
        "# Create an add_mult transform object,\n",
        "trans_set = add_mult()"
      ],
      "metadata": {
        "id": "BXVF-1jslakq"
      },
      "execution_count": null,
      "outputs": []
    },
    {
      "cell_type": "code",
      "source": [
        "# Create a new data_set object with add_mult object as transform\n",
        "dataset_transform = torch_set(transform=trans_set)"
      ],
      "metadata": {
        "id": "CawWgrCmlmrM"
      },
      "execution_count": null,
      "outputs": []
    },
    {
      "cell_type": "code",
      "source": [
        "# Use loop to print out first 10 elements in dataset\n",
        "for i in range(10):\n",
        "  x,y = our_dataset[i]\n",
        "  print(\"Orginial:\", x,y)\n",
        "  x_,y_ = dataset_transform[i]\n",
        "  print(\"Transformed index:\",i , \"x:\",x_ , \"y:\", y_)\n",
        " "
      ],
      "metadata": {
        "colab": {
          "base_uri": "https://localhost:8080/"
        },
        "id": "o_yzvYU4mFfB",
        "outputId": "7432ba3c-07e5-4603-b6d4-854a0ea7baf2"
      },
      "execution_count": null,
      "outputs": [
        {
          "output_type": "stream",
          "name": "stdout",
          "text": [
            "Orginial: tensor([2., 2.]) tensor([1.])\n",
            "Transformed index: 0 x: tensor([3., 3.]) y: tensor([2.])\n",
            "Orginial: tensor([2., 2.]) tensor([1.])\n",
            "Transformed index: 1 x: tensor([3., 3.]) y: tensor([2.])\n",
            "Orginial: tensor([2., 2.]) tensor([1.])\n",
            "Transformed index: 2 x: tensor([3., 3.]) y: tensor([2.])\n",
            "Orginial: tensor([2., 2.]) tensor([1.])\n",
            "Transformed index: 3 x: tensor([3., 3.]) y: tensor([2.])\n",
            "Orginial: tensor([2., 2.]) tensor([1.])\n",
            "Transformed index: 4 x: tensor([3., 3.]) y: tensor([2.])\n",
            "Orginial: tensor([2., 2.]) tensor([1.])\n",
            "Transformed index: 5 x: tensor([3., 3.]) y: tensor([2.])\n",
            "Orginial: tensor([2., 2.]) tensor([1.])\n",
            "Transformed index: 6 x: tensor([3., 3.]) y: tensor([2.])\n",
            "Orginial: tensor([2., 2.]) tensor([1.])\n",
            "Transformed index: 7 x: tensor([3., 3.]) y: tensor([2.])\n",
            "Orginial: tensor([2., 2.]) tensor([1.])\n",
            "Transformed index: 8 x: tensor([3., 3.]) y: tensor([2.])\n",
            "Orginial: tensor([2., 2.]) tensor([1.])\n",
            "Transformed index: 9 x: tensor([3., 3.]) y: tensor([2.])\n"
          ]
        }
      ]
    },
    {
      "cell_type": "markdown",
      "source": [
        "<h2 id=\"Compose\">Compose</h2>"
      ],
      "metadata": {
        "id": "HstDO-6CsZXA"
      }
    },
    {
      "cell_type": "code",
      "source": [
        "#We can compose multiple transforms on the dataset object. First, import transforms from torchvision\n",
        "from torchvision import transforms"
      ],
      "metadata": {
        "id": "4y-immvRne-o"
      },
      "execution_count": 48,
      "outputs": []
    },
    {
      "cell_type": "code",
      "source": [
        "# create a new transform class that multiplies each of the elements by 100:\n",
        "class mult(object):\n",
        "\n",
        "  def __init__(self,mult=100):\n",
        "    self.mult = mult\n",
        "\n",
        "  def __call__(self,sample):\n",
        "    x = sample[0]\n",
        "    y = sample[1]\n",
        "    x = x * self.mult\n",
        "    y = y * self.mult\n",
        "    sample = x,y\n",
        "    return sample"
      ],
      "metadata": {
        "id": "JnBsWmXRnfzo"
      },
      "execution_count": null,
      "outputs": []
    },
    {
      "cell_type": "code",
      "source": [
        "# Combine add_mult(), mult()\n",
        "dataset_compose = transforms.Compose([add_mult(),mult()])"
      ],
      "metadata": {
        "id": "a8szKJqtuceK"
      },
      "execution_count": null,
      "outputs": []
    },
    {
      "cell_type": "code",
      "source": [
        "dataset_compose(our_dataset[0])"
      ],
      "metadata": {
        "colab": {
          "base_uri": "https://localhost:8080/"
        },
        "id": "WlIOpbpR2y65",
        "outputId": "b6d7b2a1-be29-4fc9-fad8-8dff7bef0f8e"
      },
      "execution_count": null,
      "outputs": [
        {
          "output_type": "execute_result",
          "data": {
            "text/plain": [
              "(tensor([300., 300.]), tensor([200.]))"
            ]
          },
          "metadata": {},
          "execution_count": 119
        }
      ]
    },
    {
      "cell_type": "code",
      "source": [
        "# Print different objects Orginial, Transform and Compose\n",
        "x,y = our_dataset[0]\n",
        "x_,y_ = trans_set(our_dataset[0])\n",
        "x_com,y_com = dataset_compose(our_dataset[0])\n",
        "\n",
        "print(\"Orginial: \", x,y)\n",
        "print(\"Transformed: \", x_,y_)\n",
        "print(\"Composed: \", x_com,y_com)"
      ],
      "metadata": {
        "colab": {
          "base_uri": "https://localhost:8080/"
        },
        "id": "aBZ-RX02wYsw",
        "outputId": "0b781048-b9b5-4d9d-fc4a-3fd4ae0dc036"
      },
      "execution_count": null,
      "outputs": [
        {
          "output_type": "stream",
          "name": "stdout",
          "text": [
            "Orginial:  tensor([2., 2.]) tensor([1.])\n",
            "Transformed:  tensor([3., 3.]) tensor([2.])\n",
            "Composed:  tensor([300., 300.]) tensor([200.])\n"
          ]
        }
      ]
    },
    {
      "cell_type": "code",
      "source": [
        "# Create a new torchset object for compose\n",
        "dataset_transform_compose = torch_set(transform = dataset_compose)"
      ],
      "metadata": {
        "id": "FD8ABv49xyi1"
      },
      "execution_count": null,
      "outputs": []
    },
    {
      "cell_type": "code",
      "source": [
        "# Use loop to print out first 3 elements in dataset\n",
        "\n",
        "for i in range(3):\n",
        "  xx,yy = our_dataset[i]\n",
        "  print(\"Orginial:\", x,y)\n",
        "  x__,y__ = dataset_transform[i]\n",
        "  print(\"Transform:\", x_,y_)\n",
        "  x_com_,y_com_ = dataset_transform_compose[i]\n",
        "  print(\"Transform_Compose:\", x_com,y_com)"
      ],
      "metadata": {
        "colab": {
          "base_uri": "https://localhost:8080/"
        },
        "id": "WYWRCceeyPuo",
        "outputId": "40ab6984-ec84-4187-cfd0-c5a27f1cda05"
      },
      "execution_count": null,
      "outputs": [
        {
          "output_type": "stream",
          "name": "stdout",
          "text": [
            "Orginial: tensor([2., 2.]) tensor([1.])\n",
            "Transform: tensor([3., 3.]) tensor([2.])\n",
            "Transform_Compose: tensor([300., 300.]) tensor([200.])\n",
            "Orginial: tensor([2., 2.]) tensor([1.])\n",
            "Transform: tensor([3., 3.]) tensor([2.])\n",
            "Transform_Compose: tensor([300., 300.]) tensor([200.])\n",
            "Orginial: tensor([2., 2.]) tensor([1.])\n",
            "Transform: tensor([3., 3.]) tensor([2.])\n",
            "Transform_Compose: tensor([300., 300.]) tensor([200.])\n"
          ]
        }
      ]
    },
    {
      "cell_type": "markdown",
      "source": [
        "# Construct Dataset for Images & Apply Transform & Compose"
      ],
      "metadata": {
        "id": "Q3kAb8zv_sqp"
      }
    },
    {
      "cell_type": "code",
      "source": [
        "! wget https://cf-courses-data.s3.us.cloud-object-storage.appdomain.cloud/IBMDeveloperSkillsNetwork-DL0110EN-SkillsNetwork/labs/Week1/data/img.tar.gz -P /resources/data\n"
      ],
      "metadata": {
        "colab": {
          "base_uri": "https://localhost:8080/"
        },
        "id": "Bj9BFUghMGB0",
        "outputId": "4b58ee48-1ad7-49fa-c63b-f75313ee11c8"
      },
      "execution_count": 109,
      "outputs": [
        {
          "output_type": "stream",
          "name": "stdout",
          "text": [
            "--2022-05-28 16:39:39--  https://cf-courses-data.s3.us.cloud-object-storage.appdomain.cloud/IBMDeveloperSkillsNetwork-DL0110EN-SkillsNetwork/labs/Week1/data/img.tar.gz\n",
            "Resolving cf-courses-data.s3.us.cloud-object-storage.appdomain.cloud (cf-courses-data.s3.us.cloud-object-storage.appdomain.cloud)... 169.45.118.108\n",
            "Connecting to cf-courses-data.s3.us.cloud-object-storage.appdomain.cloud (cf-courses-data.s3.us.cloud-object-storage.appdomain.cloud)|169.45.118.108|:443... connected.\n",
            "HTTP request sent, awaiting response... 200 OK\n",
            "Length: 50460 (49K) [application/x-tar]\n",
            "Saving to: ‘/resources/data/img.tar.gz.2’\n",
            "\n",
            "img.tar.gz.2        100%[===================>]  49.28K   165KB/s    in 0.3s    \n",
            "\n",
            "2022-05-28 16:39:41 (165 KB/s) - ‘/resources/data/img.tar.gz.2’ saved [50460/50460]\n",
            "\n"
          ]
        }
      ]
    },
    {
      "cell_type": "code",
      "source": [
        "!tar -xf /resources/data/img.tar.gz "
      ],
      "metadata": {
        "id": "i9tq7vZQMIVg"
      },
      "execution_count": 110,
      "outputs": []
    },
    {
      "cell_type": "code",
      "source": [
        "!wget https://cf-courses-data.s3.us.cloud-object-storage.appdomain.cloud/IBMDeveloperSkillsNetwork-DL0110EN-SkillsNetwork/labs/Week1/data/index.csv "
      ],
      "metadata": {
        "colab": {
          "base_uri": "https://localhost:8080/"
        },
        "id": "5LNxefD0MK3H",
        "outputId": "e8f50d5f-f91b-4420-cd5e-47ee8e7ffb12"
      },
      "execution_count": 111,
      "outputs": [
        {
          "output_type": "stream",
          "name": "stdout",
          "text": [
            "--2022-05-28 16:39:41--  https://cf-courses-data.s3.us.cloud-object-storage.appdomain.cloud/IBMDeveloperSkillsNetwork-DL0110EN-SkillsNetwork/labs/Week1/data/index.csv\n",
            "Resolving cf-courses-data.s3.us.cloud-object-storage.appdomain.cloud (cf-courses-data.s3.us.cloud-object-storage.appdomain.cloud)... 169.45.118.108\n",
            "Connecting to cf-courses-data.s3.us.cloud-object-storage.appdomain.cloud (cf-courses-data.s3.us.cloud-object-storage.appdomain.cloud)|169.45.118.108|:443... connected.\n",
            "HTTP request sent, awaiting response... 200 OK\n",
            "Length: 1680905 (1.6M) [text/csv]\n",
            "Saving to: ‘index.csv.3’\n",
            "\n",
            "index.csv.3         100%[===================>]   1.60M   659KB/s    in 2.5s    \n",
            "\n",
            "2022-05-28 16:39:45 (659 KB/s) - ‘index.csv.3’ saved [1680905/1680905]\n",
            "\n"
          ]
        }
      ]
    },
    {
      "cell_type": "code",
      "source": [
        "def show_data(data_sample, shape = (28, 28)):\n",
        "    plt.imshow(data_sample[0].numpy().reshape(shape), cmap='gray')\n",
        "    plt.title('y = ' + data_sample[1])\n",
        "    "
      ],
      "metadata": {
        "id": "SbTvnrmUMMto"
      },
      "execution_count": 112,
      "outputs": []
    },
    {
      "cell_type": "code",
      "source": [
        "# Import libraries\n",
        "\n",
        "import torch\n",
        "import numpy as np\n",
        "import pandas as pd\n",
        "from torch.utils.data import Dataset,DataLoader\n",
        "torch.manual_seed(0)\n",
        "\n",
        "import matplotlib.pyplot as plt\n",
        "from matplotlib.pyplot import imshow\n",
        "import matplotlib.pylab as plt\n",
        "from PIL import Image\n",
        "import os"
      ],
      "metadata": {
        "id": "Hga51tvJC7-g"
      },
      "execution_count": 113,
      "outputs": []
    },
    {
      "cell_type": "markdown",
      "source": [
        "Below is the dataset flow for image dataset"
      ],
      "metadata": {
        "id": "JLVI6jpRhzpM"
      }
    },
    {
      "cell_type": "code",
      "source": [
        "# Set Image directory\n",
        "directory = \"\"\n",
        "csv_file = \"index.csv.2\"\n",
        "# Join the csv file in to the directory\n",
        "csv_path = os.path.join(directory,csv_file)\n",
        "# Now, Read the csv file and assign to the dataframe\n",
        "df = pd.read_csv(csv_path)\n",
        "print(df.head())\n",
        "\n",
        "# Get the image name & Load\n",
        "image_name = df.iloc[1,1]  \n",
        "# Get the directory\n",
        "image_path = os.path.join(directory,image_name)\n",
        "image_path\n",
        "# Open the image\n",
        "image = Image.open(image_path)\n",
        "plt.imshow(image,cmap='gray',vmin=0,vmax=255)\n",
        "plt.title(df.iloc[0,1])\n",
        "plt.show()"
      ],
      "metadata": {
        "colab": {
          "base_uri": "https://localhost:8080/",
          "height": 385
        },
        "id": "ioYJewfHJwCb",
        "outputId": "bcc7dd4c-77ee-4844-af1e-88544efb2048"
      },
      "execution_count": 128,
      "outputs": [
        {
          "output_type": "stream",
          "name": "stdout",
          "text": [
            "     category             image\n",
            "0  Ankle boot  img/fashion0.png\n",
            "1     T-shirt  img/fashion1.png\n",
            "2     T-shirt  img/fashion2.png\n",
            "3       Dress  img/fashion3.png\n",
            "4     T-shirt  img/fashion4.png\n"
          ]
        },
        {
          "output_type": "display_data",
          "data": {
            "text/plain": [
              "<Figure size 432x288 with 1 Axes>"
            ],
            "image/png": "[encoded data removed]"
          },
          "metadata": {
            "needs_background": "light"
          }
        }
      ]
    },
    {
      "cell_type": "code",
      "source": [
        "# Print the value of row '0' and column '1' uding iloc\n",
        "print(\"Filename: \", df.iloc[0,1])"
      ],
      "metadata": {
        "colab": {
          "base_uri": "https://localhost:8080/"
        },
        "id": "LuNFlaarHdOX",
        "outputId": "11b95bfa-f3af-4803-ccdf-8e8c215482e0"
      },
      "execution_count": 115,
      "outputs": [
        {
          "output_type": "stream",
          "name": "stdout",
          "text": [
            "Filename:  img/fashion0.png\n"
          ]
        }
      ]
    },
    {
      "cell_type": "code",
      "source": [
        "# Print the value of '0' and '0'\n",
        "print(\"y: \", df.iloc[0,0])"
      ],
      "metadata": {
        "colab": {
          "base_uri": "https://localhost:8080/"
        },
        "id": "QxbNbF01H1F0",
        "outputId": "8ede770f-8e29-411b-8c95-b9e7cd2433e1"
      },
      "execution_count": 116,
      "outputs": [
        {
          "output_type": "stream",
          "name": "stdout",
          "text": [
            "y:  Ankle boot\n"
          ]
        }
      ]
    },
    {
      "cell_type": "code",
      "source": [
        "# Get the 20th image name & Load\n",
        "image_name = df.iloc[9,1]\n",
        "image_path = os.path.join(directory,image_name)\n",
        "image = Image.open(image_path)\n",
        "plt.imshow(image,cmap='gray',vmin=1,vmax=255)\n",
        "plt.title(df.iloc[9,1])\n",
        "plt.show()"
      ],
      "metadata": {
        "colab": {
          "base_uri": "https://localhost:8080/",
          "height": 281
        },
        "id": "k2T9GOS_K8P-",
        "outputId": "de7ca879-963e-49c4-a1b7-2a78e893e36a"
      },
      "execution_count": 133,
      "outputs": [
        {
          "output_type": "display_data",
          "data": {
            "text/plain": [
              "<Figure size 432x288 with 1 Axes>"
            ],
            "image/png": "[encoded data removed]"
          },
          "metadata": {
            "needs_background": "light"
          }
        }
      ]
    },
    {
      "cell_type": "markdown",
      "source": [
        "<h2 id=\"data_class\">Create a Dataset Class</h2>"
      ],
      "metadata": {
        "id": "utei-BM_M1ry"
      }
    },
    {
      "cell_type": "code",
      "source": [
        "# We are going to create a dataset based on the above approach \n",
        "\n",
        "#set directory --> assign csv file to directory & read the csv file\n",
        "#set image name --> set image path through directory --> open image\n",
        "\n",
        "class Dataset(Dataset):\n",
        "\n",
        "  #Constructor\n",
        "  def __init__(self,data_directory,csv_file,transform=None):\n",
        "    # Set Image directory\n",
        "    self.data_directory = data_directory\n",
        "    # Join the csv file in to the directory\n",
        "    self.data_directorycsv_file = os.path.join(self.data_directory,csv_file)\n",
        "    # Now, Read the csv file and assign to the dataframe\n",
        "    self.df = pd.read_csv(self.data_directorycsv_file)\n",
        "\n",
        "    # Get the len\n",
        "    self.len = self.df.shape[0]\n",
        "\n",
        "    self.transform = transform\n",
        "\n",
        "  def __getitem__(self, idx):\n",
        "    # Set image name\n",
        "    self.image_name = self.df.iloc[idx,1]\n",
        "    # Get the directory\n",
        "    image_pathname = os.path.join(self.data_directory,self.image_name)\n",
        "    image = Image.open(image_pathname)\n",
        "\n",
        "    y = self.df.iloc[idx,0]\n",
        "\n",
        "    if self.transform:\n",
        "      image = self.transform(image)\n",
        "\n",
        "    return image,y"
      ],
      "metadata": {
        "id": "SfxGeXy7DW8Y"
      },
      "execution_count": 118,
      "outputs": []
    },
    {
      "cell_type": "code",
      "source": [
        "# Create Dataset object\n",
        "\n",
        "dataset = Dataset(data_directory=directory,csv_file=csv_file)"
      ],
      "metadata": {
        "id": "uWnYbSdAYCpm"
      },
      "execution_count": 119,
      "outputs": []
    },
    {
      "cell_type": "code",
      "source": [
        "image = dataset[0][0]\n",
        "y = dataset[0][1]\n",
        "\n",
        "plt.imshow(image,cmap='gray',vmin=0,vmax=255)\n",
        "plt.title(y)\n",
        "plt.show()"
      ],
      "metadata": {
        "colab": {
          "base_uri": "https://localhost:8080/",
          "height": 281
        },
        "id": "rG-hmDqHYPdE",
        "outputId": "98be7d1b-6fe2-46bf-858d-7fe555194587"
      },
      "execution_count": 120,
      "outputs": [
        {
          "output_type": "display_data",
          "data": {
            "text/plain": [
              "<Figure size 432x288 with 1 Axes>"
            ],
            "image/png": "[encoded data removed]"
          },
          "metadata": {
            "needs_background": "light"
          }
        }
      ]
    },
    {
      "cell_type": "markdown",
      "source": [
        "<h2 id=\"Torchvision\"> Torchvision Transforms  </h2>"
      ],
      "metadata": {
        "id": "8a4CRjB5ZkNe"
      }
    },
    {
      "cell_type": "code",
      "source": [
        "import torchvision.transforms as transforms"
      ],
      "metadata": {
        "id": "2qM8q3uYYn5U"
      },
      "execution_count": 121,
      "outputs": []
    },
    {
      "cell_type": "code",
      "source": [
        "# Combine two transforms: crop and convert to tensor. Apply the compose to MNIST dataset\n",
        "croptensor_data_transform = transforms.Compose([transforms.CenterCrop(20), transforms.ToTensor()])\n",
        "\n",
        "dataset_transform = Dataset(data_directory=directory,csv_file=csv_file,transform=croptensor_data_transform)\n",
        "\n",
        "print(\"The shape is: \", dataset_transform[0][0].shape)"
      ],
      "metadata": {
        "colab": {
          "base_uri": "https://localhost:8080/"
        },
        "id": "odozR-cxe6ZK",
        "outputId": "c780bfe6-104d-49eb-9ca2-09ec04ae613b"
      },
      "execution_count": 122,
      "outputs": [
        {
          "output_type": "stream",
          "name": "stdout",
          "text": [
            "The shape is:  torch.Size([1, 20, 20])\n"
          ]
        }
      ]
    },
    {
      "cell_type": "code",
      "source": [
        "# vertical flip transform\n",
        "fliptensor_data_transform = transforms.Compose([transforms.RandomVerticalFlip(p=1), transforms.ToTensor()])\n",
        "\n",
        "dataset_transform_flip = Dataset(csv_file=csv_file, data_directory = directory,transform = fliptensor_data_transform)\n",
        "\n",
        "print(\"The flip is:\", dataset_transform_flip[0][0].shape)\n"
      ],
      "metadata": {
        "colab": {
          "base_uri": "https://localhost:8080/"
        },
        "id": "impbWUKFfRfX",
        "outputId": "e6bb556f-d0e8-4fd2-c563-ed564753970a"
      },
      "execution_count": 126,
      "outputs": [
        {
          "output_type": "stream",
          "name": "stdout",
          "text": [
            "The flip is: torch.Size([1, 28, 28])\n"
          ]
        }
      ]
    },
    {
      "cell_type": "code",
      "source": [
        "#Combine vertical flip, horizontal flip and convert to tensor as a compose. Apply the compose on image. Then plot the image\n",
        "\n",
        "combine_data_transform = transforms.Compose([transforms.RandomVerticalFlip(p=1), transforms.RandomHorizontalFlip(p=1), transforms.ToTensor()])\n",
        "dataset_combine_transform = Dataset(csv_file=csv_file, data_directory=directory,transform=combine_data_transform)\n",
        "\n"
      ],
      "metadata": {
        "id": "uaWJxJLRgMfF"
      },
      "execution_count": 127,
      "outputs": []
    },
    {
      "cell_type": "markdown",
      "source": [
        "# <h1>Linear Regression 1D: Prediction</h1>"
      ],
      "metadata": {
        "id": "3LBaMsS_CtS4"
      }
    },
    {
      "cell_type": "markdown",
      "source": [
        "<h2 id=\"Linear\">Prediction</h2>"
      ],
      "metadata": {
        "id": "tLbTALEICpvz"
      }
    },
    {
      "cell_type": "code",
      "source": [
        "import torch"
      ],
      "metadata": {
        "id": "FaxJ0t9ngbtZ"
      },
      "execution_count": 6,
      "outputs": []
    },
    {
      "cell_type": "code",
      "source": [
        "# define the slope w and bias \"b\"\n",
        "\n",
        "w = torch.tensor([2.0],requires_grad=True)\n",
        "b = torch.tensor([-1.0],requires_grad=True)\n",
        "\n",
        "# Define the forwars function\n",
        "\n",
        "def forward(x):\n",
        "  y = 2 * w + b\n",
        "  return y\n",
        "\n",
        "# Lets predict the output for y = 2x -1 where x =1\n",
        "\n",
        "x = torch.tensor([1.0])\n",
        "y_is = forward(x)\n",
        "\n",
        "print(\"The Prediction:\", x)"
      ],
      "metadata": {
        "id": "q0N0LpQ5C41q"
      },
      "execution_count": 7,
      "outputs": []
    },
    {
      "cell_type": "code",
      "source": [
        "# Lets use the forward function and as multiple input values\n",
        "\n",
        "x = torch.tensor([[1.0],[2.0],[3.0]])\n",
        "\n",
        "y_is = forward(x)\n",
        "\n",
        "print(\"THe prediction is:\", y_is)"
      ],
      "metadata": {
        "colab": {
          "base_uri": "https://localhost:8080/"
        },
        "id": "GeaBQF38DI1s",
        "outputId": "5ff73c5e-f1dd-4edb-aa38-51772623051c"
      },
      "execution_count": 11,
      "outputs": [
        {
          "output_type": "stream",
          "name": "stdout",
          "text": [
            "THe prediction is: tensor([3.], grad_fn=<AddBackward0>)\n"
          ]
        }
      ]
    },
    {
      "cell_type": "markdown",
      "source": [
        "<h2 id=\"Linear\">Class Linear</h2>\n",
        "\n"
      ],
      "metadata": {
        "id": "KfqgG6-BEVKz"
      }
    },
    {
      "cell_type": "code",
      "source": [
        "# Import linear modules\n",
        "from torch.nn import Linear"
      ],
      "metadata": {
        "id": "u4yT-5C3DZE5"
      },
      "execution_count": 13,
      "outputs": []
    },
    {
      "cell_type": "code",
      "source": [
        "# Set the random seed so that parameters are randomly intialized\n",
        "torch.manual_seed(0)"
      ],
      "metadata": {
        "colab": {
          "base_uri": "https://localhost:8080/"
        },
        "id": "AeXsDngTEkhQ",
        "outputId": "01068454-122b-4593-a9c1-c8561474a7a6"
      },
      "execution_count": 14,
      "outputs": [
        {
          "output_type": "execute_result",
          "data": {
            "text/plain": [
              "<torch._C.Generator at 0x7fd7285f63f0>"
            ]
          },
          "metadata": {},
          "execution_count": 14
        }
      ]
    },
    {
      "cell_type": "code",
      "source": [
        "# Use Linear to determine slope and bias\n",
        "lr = Linear(in_features=1,out_features=1,bias=True)\n",
        "\n",
        "print(\"Parameters of w(slope) and b(bias)\",list(lr.parameters()))"
      ],
      "metadata": {
        "colab": {
          "base_uri": "https://localhost:8080/"
        },
        "id": "r42vasIiDhSa",
        "outputId": "e6e8878a-d36d-4a12-bc38-d2905ce03355"
      },
      "execution_count": 17,
      "outputs": [
        {
          "output_type": "stream",
          "name": "stdout",
          "text": [
            "[Parameter containing:\n",
            "tensor([[-0.8230]], requires_grad=True), Parameter containing:\n",
            "tensor([-0.7359], requires_grad=True)]\n"
          ]
        }
      ]
    },
    {
      "cell_type": "code",
      "source": [
        "# Predict y when x =1\n",
        "x = torch.tensor([1.0])\n",
        "\n",
        "print(\"The prediction of classic linear\",lr(x))"
      ],
      "metadata": {
        "colab": {
          "base_uri": "https://localhost:8080/"
        },
        "id": "Ys7s1o9UFwCz",
        "outputId": "71c95590-2293-4839-d01d-1e552027a21d"
      },
      "execution_count": 19,
      "outputs": [
        {
          "output_type": "stream",
          "name": "stdout",
          "text": [
            "The prediction of classic linear tensor([-1.5590], grad_fn=<AddBackward0>)\n"
          ]
        }
      ]
    },
    {
      "cell_type": "code",
      "source": [
        "# Use multiple values of x\n",
        "x= torch.tensor([[1.0],[3.0],[9.0]])\n",
        "\n",
        "print(\"the prediction of multiple classic linear\", lr(x))"
      ],
      "metadata": {
        "colab": {
          "base_uri": "https://localhost:8080/"
        },
        "id": "e808xjWtFfxL",
        "outputId": "a479a342-61b8-4342-c892-94c6287edbef"
      },
      "execution_count": 20,
      "outputs": [
        {
          "output_type": "stream",
          "name": "stdout",
          "text": [
            "the prediction of multiple classic linear tensor([[-1.5590],\n",
            "        [-3.2051],\n",
            "        [-8.1433]], grad_fn=<AddmmBackward0>)\n"
          ]
        }
      ]
    },
    {
      "cell_type": "markdown",
      "source": [
        "** The method state_dict() returns python dictionary object related to the parameters"
      ],
      "metadata": {
        "id": "NgPYR46VGcvM"
      }
    },
    {
      "cell_type": "code",
      "source": [
        "print(\"The parametes of w and b\",lr.state_dict())\n",
        "print(\"The keys of w and b:\", lr.state_dict().keys())\n",
        "print(\"The values of w and b:\", lr.state_dict().values())"
      ],
      "metadata": {
        "colab": {
          "base_uri": "https://localhost:8080/"
        },
        "id": "yvGbQJUDF-6m",
        "outputId": "ded7a9fb-a420-4b37-ae93-145ce0e260d0"
      },
      "execution_count": 26,
      "outputs": [
        {
          "output_type": "stream",
          "name": "stdout",
          "text": [
            "The parametes of w and b OrderedDict([('weight', tensor([[-0.8230]])), ('bias', tensor([-0.7359]))])\n",
            "The keys of w and b: odict_keys(['weight', 'bias'])\n",
            "The values of w and b: odict_values([tensor([[-0.8230]]), tensor([-0.7359])])\n"
          ]
        }
      ]
    },
    {
      "cell_type": "markdown",
      "source": [
        "<h2 id=\"Cust\">Build Custom Modules</h2>"
      ],
      "metadata": {
        "id": "Zb2c_-hMHMB2"
      }
    },
    {
      "cell_type": "code",
      "source": [
        "from torch import nn"
      ],
      "metadata": {
        "id": "B6_V-q0YHIBH"
      },
      "execution_count": 28,
      "outputs": []
    },
    {
      "cell_type": "code",
      "source": [
        "class LR(nn.Module):\n",
        "\n",
        "  #Constructor\n",
        "  def __init__(self,input_size,output_size):\n",
        "    # Inherit from parent\n",
        "    super(LR,self).__init__()\n",
        "    self.Linear = nn.Linear(input_size,output_size)\n",
        "\n",
        "  # Prediction function\n",
        "  def forward(self,x):\n",
        "    return self.Linear(x)\n"
      ],
      "metadata": {
        "id": "PDSW2ppzGuYM"
      },
      "execution_count": 33,
      "outputs": []
    },
    {
      "cell_type": "code",
      "source": [
        "# Create a Linear regression model\n",
        "\n",
        "model = LR(1,1)\n",
        "print(\"The parameters\", list(model.parameters()))\n",
        "print(\"The Linear model\", model.Linear)"
      ],
      "metadata": {
        "colab": {
          "base_uri": "https://localhost:8080/"
        },
        "id": "lLjmRY-YIYjZ",
        "outputId": "1a4dee35-4dc2-4e16-f8ed-72a9a4526e3b"
      },
      "execution_count": 39,
      "outputs": [
        {
          "output_type": "stream",
          "name": "stdout",
          "text": [
            "The parameters [Parameter containing:\n",
            "tensor([[-0.9553]], requires_grad=True), Parameter containing:\n",
            "tensor([-0.6623], requires_grad=True)]\n",
            "The Linear model Linear(in_features=1, out_features=1, bias=True)\n"
          ]
        }
      ]
    },
    {
      "cell_type": "code",
      "source": [
        "# Try our customize linear regression model with single input\n",
        "\n",
        "x = torch.tensor([1.0])\n",
        "\n",
        "print(\"The prediction\", model(x))"
      ],
      "metadata": {
        "colab": {
          "base_uri": "https://localhost:8080/"
        },
        "id": "l_GrUeu9I9xd",
        "outputId": "1b116933-710c-40b4-cc98-1a563aea791d"
      },
      "execution_count": 40,
      "outputs": [
        {
          "output_type": "stream",
          "name": "stdout",
          "text": [
            "The prediction tensor([-1.6176], grad_fn=<AddBackward0>)\n"
          ]
        }
      ]
    },
    {
      "cell_type": "code",
      "source": [
        "# Try our customize linear regression model with multiple input\n",
        "x = torch.tensor([[1.0],[2.0]])\n",
        "\n",
        "print(\"The prediction of multiple input values of Linear regression model:\", model(x))"
      ],
      "metadata": {
        "colab": {
          "base_uri": "https://localhost:8080/"
        },
        "id": "5PVkNniWI1_E",
        "outputId": "7e96989b-cded-4008-b789-45ac73f1027c"
      },
      "execution_count": 41,
      "outputs": [
        {
          "output_type": "stream",
          "name": "stdout",
          "text": [
            "The prediction of multiple input values of Linear regression model: tensor([[-1.6176],\n",
            "        [-2.5730]], grad_fn=<AddmmBackward0>)\n"
          ]
        }
      ]
    },
    {
      "cell_type": "code",
      "source": [
        "print(\"The parameters of w and b\", model.state_dict())\n",
        "print(\"The parameters keys of w and b\", model.state_dict().keys())\n",
        "print(\"The parametes values of w and b\", model.state_dict().values())"
      ],
      "metadata": {
        "colab": {
          "base_uri": "https://localhost:8080/"
        },
        "id": "C3A5BNhWIhDN",
        "outputId": "81f09661-5f58-4bf0-df2b-ee184b34b763"
      },
      "execution_count": 44,
      "outputs": [
        {
          "output_type": "stream",
          "name": "stdout",
          "text": [
            "The parameters of w and b OrderedDict([('Linear.weight', tensor([[-0.9553]])), ('Linear.bias', tensor([-0.6623]))])\n",
            "The parameters keys of w and b odict_keys(['Linear.weight', 'Linear.bias'])\n",
            "The parametes values of w and b odict_values([tensor([[-0.9553]]), tensor([-0.6623])])\n"
          ]
        }
      ]
    },
    {
      "cell_type": "code",
      "source": [
        ""
      ],
      "metadata": {
        "id": "bJipsx-sJg75"
      },
      "execution_count": null,
      "outputs": []
    }
  ]
}